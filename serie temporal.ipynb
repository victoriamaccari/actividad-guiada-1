{
  "nbformat": 4,
  "nbformat_minor": 0,
  "metadata": {
    "colab": {
      "name": "Untitled0.ipynb",
      "provenance": [],
      "authorship_tag": "ABX9TyMe3YoFk8jpPImJP3vDwFJz",
      "include_colab_link": true
    },
    "kernelspec": {
      "name": "python3",
      "display_name": "Python 3"
    }
  },
  "cells": [
    {
      "cell_type": "markdown",
      "metadata": {
        "id": "view-in-github",
        "colab_type": "text"
      },
      "source": [
        "<a href=\"https://colab.research.google.com/github/victoriamaccari/actividad-guiada-1/blob/master/serie%20temporal.ipynb\" target=\"_parent\"><img src=\"https://colab.research.google.com/assets/colab-badge.svg\" alt=\"Open In Colab\"/></a>"
      ]
    },
    {
      "cell_type": "code",
      "metadata": {
        "id": "aHvAIseaDJsQ"
      },
      "source": [
        "import pandas as pd"
      ],
      "execution_count": 1,
      "outputs": []
    },
    {
      "cell_type": "code",
      "metadata": {
        "id": "2w8l47fkDnWC"
      },
      "source": [
        "url= \"https://raw.githubusercontent.com/victoriamaccari/proyecto/master/GrowthDJ.csv\""
      ],
      "execution_count": 2,
      "outputs": []
    },
    {
      "cell_type": "code",
      "metadata": {
        "id": "u7UUTScjDqOA"
      },
      "source": [
        "df= pd.read_csv(url)"
      ],
      "execution_count": 3,
      "outputs": []
    },
    {
      "cell_type": "code",
      "metadata": {
        "id": "K-IsnrZwDuM5"
      },
      "source": [
        "#elimino columna Unnamed:0\n",
        "df.drop(df.columns[[0]], axis='columns', inplace=True)"
      ],
      "execution_count": 4,
      "outputs": []
    },
    {
      "cell_type": "code",
      "metadata": {
        "id": "qsBagztcDzMY",
        "outputId": "446c92e1-8045-4747-bee3-a5c6bcfc219b",
        "colab": {
          "base_uri": "https://localhost:8080/"
        }
      },
      "source": [
        "#Comprobar si hay valores perdidos\n",
        "pd.isnull(df).any()"
      ],
      "execution_count": 5,
      "outputs": [
        {
          "output_type": "execute_result",
          "data": {
            "text/plain": [
              "oil           False\n",
              "inter         False\n",
              "oecd          False\n",
              "gdp60          True\n",
              "gdp85          True\n",
              "gdpgrowth      True\n",
              "popgrowth      True\n",
              "invest        False\n",
              "school         True\n",
              "literacy60     True\n",
              "dtype: bool"
            ]
          },
          "metadata": {
            "tags": []
          },
          "execution_count": 5
        }
      ]
    },
    {
      "cell_type": "code",
      "metadata": {
        "id": "zCTojai3D24N"
      },
      "source": [
        "#Metodo fillna, asigna el valor previo o el ultimo valor valido\n",
        "df.fillna(method='ffill', inplace=True)"
      ],
      "execution_count": 6,
      "outputs": []
    },
    {
      "cell_type": "code",
      "metadata": {
        "id": "be5ZGnAMFxtk"
      },
      "source": [
        "Q1 = df.quantile(0.25)\n",
        "Q3 = df.quantile(0.95)\n",
        "IQR = Q3 - Q1\n",
        "\n",
        "df1 = df[~((df < (Q1 - 1.5 * IQR)) |(df > (Q3 + 1.5 * IQR))).any(axis=1)]\n",
        "\n"
      ],
      "execution_count": 8,
      "outputs": []
    },
    {
      "cell_type": "code",
      "metadata": {
        "id": "mqI11nuxPNP1"
      },
      "source": [
        ""
      ],
      "execution_count": 33,
      "outputs": []
    },
    {
      "cell_type": "code",
      "metadata": {
        "id": "6wLv_DukF-cR",
        "outputId": "145fbdc0-f312-4ec6-d1a3-1e7bdc70b4c0",
        "colab": {
          "base_uri": "https://localhost:8080/"
        }
      },
      "source": [
        "import pandas as pd\n",
        "from datetime import datetime\n",
        "import numpy as np\n",
        "pd.set_option('display.max_rows', None)\n",
        "pd.set_option('display.max_columns', None)\n",
        "date_rng = pd.date_range(start='1960/01/01', end='1960/12/31', periods=120)\n",
        "print(date_rng)"
      ],
      "execution_count": 36,
      "outputs": [
        {
          "output_type": "stream",
          "text": [
            "DatetimeIndex([          '1960-01-01 00:00:00',\n",
            "               '1960-01-04 01:36:48.403361344',\n",
            "               '1960-01-07 03:13:36.806722689',\n",
            "               '1960-01-10 04:50:25.210084033',\n",
            "               '1960-01-13 06:27:13.613445378',\n",
            "               '1960-01-16 08:04:02.016806722',\n",
            "               '1960-01-19 09:40:50.420168067',\n",
            "               '1960-01-22 11:17:38.823529411',\n",
            "               '1960-01-25 12:54:27.226890756',\n",
            "               '1960-01-28 14:31:15.630252101',\n",
            "               ...\n",
            "               '1960-12-03 09:28:44.369747900',\n",
            "               '1960-12-06 11:05:32.773109244',\n",
            "               '1960-12-09 12:42:21.176470588',\n",
            "               '1960-12-12 14:19:09.579831932',\n",
            "               '1960-12-15 15:55:57.983193276',\n",
            "               '1960-12-18 17:32:46.386554620',\n",
            "               '1960-12-21 19:09:34.789915964',\n",
            "               '1960-12-24 20:46:23.193277312',\n",
            "               '1960-12-27 22:23:11.596638656',\n",
            "                         '1960-12-31 00:00:00'],\n",
            "              dtype='datetime64[ns]', length=120, freq=None)\n"
          ],
          "name": "stdout"
        }
      ]
    },
    {
      "cell_type": "code",
      "metadata": {
        "id": "0OZ-1JQDRc-w"
      },
      "source": [
        "ts = pd.DataFrame(date_rng, columns=['date'])"
      ],
      "execution_count": 41,
      "outputs": []
    },
    {
      "cell_type": "code",
      "metadata": {
        "id": "Xiec67f0GxJg",
        "outputId": "44aafce5-6f9a-45b4-e5c4-3a40f095c6ad",
        "colab": {
          "base_uri": "https://localhost:8080/",
          "height": 195
        }
      },
      "source": [
        "df3=pd.merge(df1, ts, right_index=True, left_index=True)\n",
        "df3.head()"
      ],
      "execution_count": 50,
      "outputs": [
        {
          "output_type": "execute_result",
          "data": {
            "text/html": [
              "<div>\n",
              "<style scoped>\n",
              "    .dataframe tbody tr th:only-of-type {\n",
              "        vertical-align: middle;\n",
              "    }\n",
              "\n",
              "    .dataframe tbody tr th {\n",
              "        vertical-align: top;\n",
              "    }\n",
              "\n",
              "    .dataframe thead th {\n",
              "        text-align: right;\n",
              "    }\n",
              "</style>\n",
              "<table border=\"1\" class=\"dataframe\">\n",
              "  <thead>\n",
              "    <tr style=\"text-align: right;\">\n",
              "      <th></th>\n",
              "      <th>oil</th>\n",
              "      <th>inter</th>\n",
              "      <th>oecd</th>\n",
              "      <th>gdp60</th>\n",
              "      <th>gdp85</th>\n",
              "      <th>gdpgrowth</th>\n",
              "      <th>popgrowth</th>\n",
              "      <th>invest</th>\n",
              "      <th>school</th>\n",
              "      <th>literacy60</th>\n",
              "      <th>date</th>\n",
              "    </tr>\n",
              "  </thead>\n",
              "  <tbody>\n",
              "    <tr>\n",
              "      <th>0</th>\n",
              "      <td>no</td>\n",
              "      <td>yes</td>\n",
              "      <td>no</td>\n",
              "      <td>2485.0</td>\n",
              "      <td>4371.0</td>\n",
              "      <td>4.8</td>\n",
              "      <td>2.6</td>\n",
              "      <td>24.1</td>\n",
              "      <td>4.5</td>\n",
              "      <td>10.0</td>\n",
              "      <td>1960-01-01 00:00:00.000000000</td>\n",
              "    </tr>\n",
              "    <tr>\n",
              "      <th>1</th>\n",
              "      <td>no</td>\n",
              "      <td>no</td>\n",
              "      <td>no</td>\n",
              "      <td>1588.0</td>\n",
              "      <td>1171.0</td>\n",
              "      <td>0.8</td>\n",
              "      <td>2.1</td>\n",
              "      <td>5.8</td>\n",
              "      <td>1.8</td>\n",
              "      <td>5.0</td>\n",
              "      <td>1960-01-04 01:36:48.403361344</td>\n",
              "    </tr>\n",
              "    <tr>\n",
              "      <th>2</th>\n",
              "      <td>no</td>\n",
              "      <td>no</td>\n",
              "      <td>no</td>\n",
              "      <td>1116.0</td>\n",
              "      <td>1071.0</td>\n",
              "      <td>2.2</td>\n",
              "      <td>2.4</td>\n",
              "      <td>10.8</td>\n",
              "      <td>1.8</td>\n",
              "      <td>5.0</td>\n",
              "      <td>1960-01-07 03:13:36.806722689</td>\n",
              "    </tr>\n",
              "    <tr>\n",
              "      <th>3</th>\n",
              "      <td>no</td>\n",
              "      <td>yes</td>\n",
              "      <td>no</td>\n",
              "      <td>959.0</td>\n",
              "      <td>3671.0</td>\n",
              "      <td>8.6</td>\n",
              "      <td>3.2</td>\n",
              "      <td>28.3</td>\n",
              "      <td>2.9</td>\n",
              "      <td>5.0</td>\n",
              "      <td>1960-01-10 04:50:25.210084033</td>\n",
              "    </tr>\n",
              "    <tr>\n",
              "      <th>4</th>\n",
              "      <td>no</td>\n",
              "      <td>no</td>\n",
              "      <td>no</td>\n",
              "      <td>529.0</td>\n",
              "      <td>857.0</td>\n",
              "      <td>2.9</td>\n",
              "      <td>0.9</td>\n",
              "      <td>12.7</td>\n",
              "      <td>0.4</td>\n",
              "      <td>2.0</td>\n",
              "      <td>1960-01-13 06:27:13.613445378</td>\n",
              "    </tr>\n",
              "  </tbody>\n",
              "</table>\n",
              "</div>"
            ],
            "text/plain": [
              "  oil inter oecd   gdp60   gdp85  gdpgrowth  popgrowth  invest  school  \\\n",
              "0  no   yes   no  2485.0  4371.0        4.8        2.6    24.1     4.5   \n",
              "1  no    no   no  1588.0  1171.0        0.8        2.1     5.8     1.8   \n",
              "2  no    no   no  1116.0  1071.0        2.2        2.4    10.8     1.8   \n",
              "3  no   yes   no   959.0  3671.0        8.6        3.2    28.3     2.9   \n",
              "4  no    no   no   529.0   857.0        2.9        0.9    12.7     0.4   \n",
              "\n",
              "   literacy60                          date  \n",
              "0        10.0 1960-01-01 00:00:00.000000000  \n",
              "1         5.0 1960-01-04 01:36:48.403361344  \n",
              "2         5.0 1960-01-07 03:13:36.806722689  \n",
              "3         5.0 1960-01-10 04:50:25.210084033  \n",
              "4         2.0 1960-01-13 06:27:13.613445378  "
            ]
          },
          "metadata": {
            "tags": []
          },
          "execution_count": 50
        }
      ]
    },
    {
      "cell_type": "code",
      "metadata": {
        "id": "6mFzNsS5VG7y",
        "outputId": "0dbfee61-d61c-46d9-b75c-51b7aeebcce5",
        "colab": {
          "base_uri": "https://localhost:8080/"
        }
      },
      "source": [
        "df4=df3.loc[:,['gdp60','date']]\n",
        "print(df4)"
      ],
      "execution_count": 59,
      "outputs": [
        {
          "output_type": "stream",
          "text": [
            "       gdp60                          date\n",
            "0     2485.0 1960-01-01 00:00:00.000000000\n",
            "1     1588.0 1960-01-04 01:36:48.403361344\n",
            "2     1116.0 1960-01-07 03:13:36.806722689\n",
            "3      959.0 1960-01-10 04:50:25.210084033\n",
            "4      529.0 1960-01-13 06:27:13.613445378\n",
            "5      755.0 1960-01-16 08:04:02.016806722\n",
            "6      889.0 1960-01-19 09:40:50.420168067\n",
            "7      838.0 1960-01-22 11:17:38.823529411\n",
            "8      908.0 1960-01-25 12:54:27.226890756\n",
            "9     1009.0 1960-01-28 14:31:15.630252101\n",
            "10     907.0 1960-01-31 16:08:04.033613445\n",
            "11     533.0 1960-02-03 17:44:52.436974790\n",
            "12    1307.0 1960-02-06 19:21:40.840336134\n",
            "13     799.0 1960-02-09 20:58:29.243697479\n",
            "14    1009.0 1960-02-12 22:35:17.647058823\n",
            "15     746.0 1960-02-16 00:12:06.050420168\n",
            "16    1386.0 1960-02-19 01:48:54.453781512\n",
            "17     944.0 1960-02-22 03:25:42.857142857\n",
            "18     431.0 1960-02-25 05:02:31.260504202\n",
            "19     863.0 1960-02-28 06:39:19.663865546\n",
            "20    1194.0 1960-03-02 08:16:08.067226891\n",
            "21     455.0 1960-03-05 09:52:56.470588235\n",
            "22     737.0 1960-03-08 11:29:44.873949580\n",
            "23     777.0 1960-03-11 13:06:33.277310924\n",
            "24    1973.0 1960-03-14 14:43:21.680672269\n",
            "25    1030.0 1960-03-17 16:20:10.084033613\n",
            "26    1420.0 1960-03-20 17:56:58.487394958\n",
            "27     539.0 1960-03-23 19:33:46.890756302\n",
            "28    1055.0 1960-03-26 21:10:35.294117647\n",
            "29     460.0 1960-03-29 22:47:23.697478991\n",
            "30    1392.0 1960-04-02 00:24:12.100840336\n",
            "31     511.0 1960-04-05 02:01:00.504201680\n",
            "32     901.0 1960-04-08 03:37:48.907563025\n",
            "33    4768.0 1960-04-11 05:14:37.310924370\n",
            "34    1254.0 1960-04-14 06:51:25.714285714\n",
            "35     817.0 1960-04-17 08:28:14.117647058\n",
            "36     383.0 1960-04-20 10:05:02.521008404\n",
            "37     777.0 1960-04-23 11:41:50.924369748\n",
            "38    1623.0 1960-04-26 13:18:39.327731092\n",
            "39     601.0 1960-04-29 14:55:27.731092436\n",
            "40     594.0 1960-05-02 16:32:16.134453782\n",
            "41    1410.0 1960-05-05 18:09:04.537815126\n",
            "42    1187.0 1960-05-08 19:45:52.941176470\n",
            "43    1224.0 1960-05-11 21:22:41.344537814\n",
            "44    1224.0 1960-05-14 22:59:29.747899160\n",
            "45     846.0 1960-05-18 00:36:18.151260504\n",
            "46     517.0 1960-05-21 02:13:06.554621848\n",
            "47    3085.0 1960-05-24 03:49:54.957983192\n",
            "48     978.0 1960-05-27 05:26:43.361344538\n",
            "49    3606.0 1960-05-30 07:03:31.764705882\n",
            "50    4916.0 1960-06-02 08:40:20.168067226\n",
            "51    4802.0 1960-06-05 10:17:08.571428572\n",
            "52    3493.0 1960-06-08 11:53:56.974789916\n",
            "53    2183.0 1960-06-11 13:30:45.378151260\n",
            "54    1285.0 1960-06-14 15:07:33.781512604\n",
            "56    2154.0 1960-06-20 18:21:10.588235294\n",
            "57     833.0 1960-06-23 19:57:58.991596638\n",
            "58     833.0 1960-06-26 21:34:47.394957982\n",
            "59    1077.0 1960-06-29 23:11:35.798319328\n",
            "60    1668.0 1960-07-03 00:48:24.201680672\n",
            "61    6731.0 1960-07-06 02:25:12.605042016\n",
            "62    2793.0 1960-07-09 04:02:01.008403360\n",
            "63    1794.0 1960-07-12 05:38:49.411764706\n",
            "64    2382.0 1960-07-15 07:15:37.815126050\n",
            "65    2382.0 1960-07-18 08:52:26.218487394\n",
            "66    1308.0 1960-07-21 10:29:14.621848740\n",
            "67    1308.0 1960-07-24 12:06:03.025210084\n",
            "68    1308.0 1960-07-27 13:42:51.428571428\n",
            "69    5939.0 1960-07-30 15:19:39.831932772\n",
            "70    6789.0 1960-08-02 16:56:28.235294116\n",
            "71    2948.0 1960-08-05 18:33:16.638655460\n",
            "72    8551.0 1960-08-08 20:10:05.042016808\n",
            "73    6527.0 1960-08-11 21:46:53.445378152\n",
            "74    7215.0 1960-08-14 23:23:41.848739496\n",
            "75    7695.0 1960-08-18 01:00:30.252100840\n",
            "76    2257.0 1960-08-21 02:37:18.655462184\n",
            "77    8091.0 1960-08-24 04:14:07.058823528\n",
            "78    4411.0 1960-08-27 05:50:55.462184872\n",
            "79    4913.0 1960-08-30 07:27:43.865546216\n",
            "80    9015.0 1960-09-02 09:04:32.268907564\n",
            "81    2293.0 1960-09-05 10:41:20.672268908\n",
            "82    7689.0 1960-09-08 12:18:09.075630252\n",
            "83    7938.0 1960-09-11 13:54:57.478991596\n",
            "84    2272.0 1960-09-14 15:31:45.882352940\n",
            "85    3766.0 1960-09-17 17:08:34.285714284\n",
            "86    7802.0 1960-09-20 18:45:22.689075628\n",
            "87   10308.0 1960-09-23 20:22:11.092436976\n",
            "88    2274.0 1960-09-26 21:58:59.495798320\n",
            "89    7634.0 1960-09-29 23:35:47.899159664\n",
            "90    3165.0 1960-10-03 01:12:36.302521008\n",
            "91   10286.0 1960-10-06 02:49:24.705882352\n",
            "92    3360.0 1960-10-09 04:26:13.109243696\n",
            "93    1939.0 1960-10-12 06:03:01.512605040\n",
            "94    2042.0 1960-10-15 07:39:49.915966384\n",
            "95    2481.0 1960-10-18 09:16:38.319327732\n",
            "96    1096.0 1960-10-21 10:53:26.722689076\n",
            "97    1430.0 1960-10-24 12:30:15.126050420\n",
            "98    2726.0 1960-10-27 14:07:03.529411764\n",
            "99    4229.0 1960-10-30 15:43:51.932773108\n",
            "100   3195.0 1960-11-02 17:20:40.336134452\n",
            "101   2423.0 1960-11-05 18:57:28.739495796\n",
            "102   9253.0 1960-11-08 20:34:17.142857144\n",
            "103  12362.0 1960-11-11 22:11:05.546218488\n",
            "104   4852.0 1960-11-14 23:47:53.949579832\n",
            "105   1618.0 1960-11-18 01:24:42.352941176\n",
            "106   1842.0 1960-11-21 03:01:30.756302520\n",
            "107   5189.0 1960-11-24 04:38:19.159663864\n",
            "108   2672.0 1960-11-27 06:15:07.563025208\n",
            "109   2198.0 1960-11-30 07:51:55.966386552\n",
            "110   2761.0 1960-12-03 09:28:44.369747900\n",
            "111   1951.0 1960-12-06 11:05:32.773109244\n",
            "112   3310.0 1960-12-09 12:42:21.176470588\n",
            "113   3226.0 1960-12-12 14:19:09.579831932\n",
            "114   5119.0 1960-12-15 15:55:57.983193276\n",
            "115  10367.0 1960-12-18 17:32:46.386554620\n",
            "116   8440.0 1960-12-21 19:09:34.789915964\n",
            "117   3634.0 1960-12-24 20:46:23.193277312\n",
            "118    879.0 1960-12-27 22:23:11.596638656\n",
            "119   9523.0 1960-12-31 00:00:00.000000000\n"
          ],
          "name": "stdout"
        }
      ]
    },
    {
      "cell_type": "code",
      "metadata": {
        "id": "7rvIG9erWtwg",
        "outputId": "f2b65710-a806-4180-d483-8da6466bd9d5",
        "colab": {
          "base_uri": "https://localhost:8080/",
          "height": 225
        }
      },
      "source": [
        "df4.head()\n"
      ],
      "execution_count": 65,
      "outputs": [
        {
          "output_type": "execute_result",
          "data": {
            "text/html": [
              "<div>\n",
              "<style scoped>\n",
              "    .dataframe tbody tr th:only-of-type {\n",
              "        vertical-align: middle;\n",
              "    }\n",
              "\n",
              "    .dataframe tbody tr th {\n",
              "        vertical-align: top;\n",
              "    }\n",
              "\n",
              "    .dataframe thead th {\n",
              "        text-align: right;\n",
              "    }\n",
              "</style>\n",
              "<table border=\"1\" class=\"dataframe\">\n",
              "  <thead>\n",
              "    <tr style=\"text-align: right;\">\n",
              "      <th></th>\n",
              "      <th>gdp60</th>\n",
              "    </tr>\n",
              "    <tr>\n",
              "      <th>date</th>\n",
              "      <th></th>\n",
              "    </tr>\n",
              "  </thead>\n",
              "  <tbody>\n",
              "    <tr>\n",
              "      <th>1960-01-01 00:00:00.000000000</th>\n",
              "      <td>2485.0</td>\n",
              "    </tr>\n",
              "    <tr>\n",
              "      <th>1960-01-04 01:36:48.403361344</th>\n",
              "      <td>1588.0</td>\n",
              "    </tr>\n",
              "    <tr>\n",
              "      <th>1960-01-07 03:13:36.806722689</th>\n",
              "      <td>1116.0</td>\n",
              "    </tr>\n",
              "    <tr>\n",
              "      <th>1960-01-10 04:50:25.210084033</th>\n",
              "      <td>959.0</td>\n",
              "    </tr>\n",
              "    <tr>\n",
              "      <th>1960-01-13 06:27:13.613445378</th>\n",
              "      <td>529.0</td>\n",
              "    </tr>\n",
              "  </tbody>\n",
              "</table>\n",
              "</div>"
            ],
            "text/plain": [
              "                                gdp60\n",
              "date                                 \n",
              "1960-01-01 00:00:00.000000000  2485.0\n",
              "1960-01-04 01:36:48.403361344  1588.0\n",
              "1960-01-07 03:13:36.806722689  1116.0\n",
              "1960-01-10 04:50:25.210084033   959.0\n",
              "1960-01-13 06:27:13.613445378   529.0"
            ]
          },
          "metadata": {
            "tags": []
          },
          "execution_count": 65
        }
      ]
    },
    {
      "cell_type": "code",
      "metadata": {
        "id": "uMyd-s22X110",
        "outputId": "fe38eeb2-e10c-4793-85a4-b81a8725a3c7",
        "colab": {
          "base_uri": "https://localhost:8080/",
          "height": 310
        }
      },
      "source": [
        "df4.plot(title='PBI Data')\n",
        "print(df4.shape)"
      ],
      "execution_count": 66,
      "outputs": [
        {
          "output_type": "stream",
          "text": [
            "(119, 1)\n"
          ],
          "name": "stdout"
        },
        {
          "output_type": "display_data",
          "data": {
            "image/png": "[encoded data removed]",
            "text/plain": [
              "<Figure size 432x288 with 1 Axes>"
            ]
          },
          "metadata": {
            "tags": [],
            "needs_background": "light"
          }
        }
      ]
    },
    {
      "cell_type": "code",
      "metadata": {
        "id": "C2gFNGjjbfiL"
      },
      "source": [
        "import pandas as pd\n",
        "import matplotlib.pyplot as plt\n",
        "import statsmodels.api as sm\n",
        "import numpy as np\n",
        "from statsmodels.tsa.arima_model import ARIMA\n",
        "from statsmodels.tsa.stattools import adfuller\n",
        "\n",
        "\n"
      ],
      "execution_count": 78,
      "outputs": []
    },
    {
      "cell_type": "code",
      "metadata": {
        "id": "SbTmezxGh_Fi"
      },
      "source": [
        "  import statsmodels\n",
        "  import statsmodels.api as sm\n",
        "  import statsmodels.formula.api as smf"
      ],
      "execution_count": 94,
      "outputs": []
    },
    {
      "cell_type": "code",
      "metadata": {
        "id": "3UayT3BoiYJY",
        "outputId": "e9937470-e2fc-4571-e414-01e49dd78f28",
        "colab": {
          "base_uri": "https://localhost:8080/",
          "height": 354
        }
      },
      "source": [
        "pip install statsmodels --upgrade"
      ],
      "execution_count": 97,
      "outputs": [
        {
          "output_type": "stream",
          "text": [
            "Collecting statsmodels\n",
            "\u001b[?25l  Downloading https://files.pythonhosted.org/packages/00/93/1b6882f92d94e491a3e3be101fc83934551eada261281980f3957246432f/statsmodels-0.12.0-cp36-cp36m-manylinux1_x86_64.whl (9.5MB)\n",
            "\u001b[K     |████████████████████████████████| 9.5MB 2.6MB/s \n",
            "\u001b[?25hRequirement already satisfied, skipping upgrade: pandas>=0.21 in /usr/local/lib/python3.6/dist-packages (from statsmodels) (1.1.2)\n",
            "Requirement already satisfied, skipping upgrade: scipy>=1.1 in /usr/local/lib/python3.6/dist-packages (from statsmodels) (1.4.1)\n",
            "Requirement already satisfied, skipping upgrade: numpy>=1.15 in /usr/local/lib/python3.6/dist-packages (from statsmodels) (1.18.5)\n",
            "Requirement already satisfied, skipping upgrade: patsy>=0.5 in /usr/local/lib/python3.6/dist-packages (from statsmodels) (0.5.1)\n",
            "Requirement already satisfied, skipping upgrade: python-dateutil>=2.7.3 in /usr/local/lib/python3.6/dist-packages (from pandas>=0.21->statsmodels) (2.8.1)\n",
            "Requirement already satisfied, skipping upgrade: pytz>=2017.2 in /usr/local/lib/python3.6/dist-packages (from pandas>=0.21->statsmodels) (2018.9)\n",
            "Requirement already satisfied, skipping upgrade: six in /usr/local/lib/python3.6/dist-packages (from patsy>=0.5->statsmodels) (1.15.0)\n",
            "Installing collected packages: statsmodels\n",
            "  Found existing installation: statsmodels 0.10.2\n",
            "    Uninstalling statsmodels-0.10.2:\n",
            "      Successfully uninstalled statsmodels-0.10.2\n",
            "Successfully installed statsmodels-0.12.0\n"
          ],
          "name": "stdout"
        },
        {
          "output_type": "display_data",
          "data": {
            "application/vnd.colab-display-data+json": {
              "pip_warning": {
                "packages": [
                  "statsmodels"
                ]
              }
            }
          },
          "metadata": {
            "tags": []
          }
        }
      ]
    },
    {
      "cell_type": "code",
      "metadata": {
        "id": "2sfQymfbeBTo"
      },
      "source": [
        "def test_stationarity(timeseries):\n",
        "  rolmean=pd.rolling_mean(timeseries, window=12)\n",
        "  rolstd=pd.rolling_std(timeseries, window=12)\n",
        "  orig=plt.plot(timeseries, color='blue', label='original')\n",
        "  mean=plt.plot(rolmean, color='red', label='media movil')\n",
        "  std=plt.plot(rolstd, color='black', label= 'desviacion estandar')\n",
        "  plt.legend(loc='best')\n",
        "  plt.title('media movil y desviacion estandar')\n",
        "  plt.show(block=False)\n",
        "  test_stationarity(df4['gdp60'])"
      ],
      "execution_count": 98,
      "outputs": []
    },
    {
      "cell_type": "code",
      "metadata": {
        "id": "WBNq4YXkcrt6",
        "outputId": "fc961f2b-f3a5-4e71-a2a1-1abb142f1a5c",
        "colab": {
          "base_uri": "https://localhost:8080/",
          "height": 261
        }
      },
      "source": [
        "#calculo de media movil\n",
        "\n",
        "moving_avg = df4.rolling(12).mean()\n",
        "df4['gdp60'].plot\n",
        "moving_avg.plot(label='media movil', color='red')\n",
        "plt.title('media movil')\n",
        "plt.legend(loc='best')"
      ],
      "execution_count": 100,
      "outputs": [
        {
          "output_type": "execute_result",
          "data": {
            "text/plain": [
              "<matplotlib.legend.Legend at 0x7f49580767f0>"
            ]
          },
          "metadata": {
            "tags": []
          },
          "execution_count": 100
        },
        {
          "output_type": "display_data",
          "data": {
            "image/png": "[encoded data removed]",
            "text/plain": [
              "<Figure size 1440x216 with 1 Axes>"
            ]
          },
          "metadata": {
            "tags": [],
            "needs_background": "light"
          }
        }
      ]
    },
    {
      "cell_type": "code",
      "metadata": {
        "id": "5Dg1NDqSi5-E",
        "outputId": "39dd755e-f17a-4f8e-b0f6-8dc4060ca79f",
        "colab": {
          "base_uri": "https://localhost:8080/",
          "height": 268
        }
      },
      "source": [
        "#calculo de la tendencia sobre los datos\n",
        "ciclo, tend = sm.tsa.filters.hpfilter(df4['gdp60'])\n",
        "df4['tendencia']= tend\n",
        "df4[['gdp60', 'tendencia']].plot(fontsize=12);\n",
        "plt.title('tendencia')\n"
      ],
      "execution_count": 103,
      "outputs": [
        {
          "output_type": "execute_result",
          "data": {
            "text/plain": [
              "Text(0.5, 1.0, 'tendencia')"
            ]
          },
          "metadata": {
            "tags": []
          },
          "execution_count": 103
        },
        {
          "output_type": "display_data",
          "data": {
            "image/png": "[encoded data removed]",
            "text/plain": [
              "<Figure size 1440x216 with 1 Axes>"
            ]
          },
          "metadata": {
            "tags": [],
            "needs_background": "light"
          }
        }
      ]
    },
    {
      "cell_type": "code",
      "metadata": {
        "id": "EGFXhx-mkaGk",
        "outputId": "6adfdf10-ce1b-4506-87b6-b12506653398",
        "colab": {
          "base_uri": "https://localhost:8080/",
          "height": 222
        }
      },
      "source": [
        "#descomposicion de los componentes de la serie de tiempo\n",
        "descomposicion = sm.tsa.seasonal_decompose(df4['gdp60'], freq=30)\n",
        "trend= descomposicion.trend\n",
        "seasonal= descomposicion.seasonal\n",
        "residual= descomposicion.resid\n",
        "\n",
        "plt.subplot(411)\n",
        "plt.plot(df4['gdp60'], label= 'original')\n",
        "plt.title('linea original')\n",
        "plt.legend(loc= 'best')\n",
        "plt.subplot(412)\n",
        "plt.plot(trend, label= 'fluctuaciones')\n",
        "plt.title('fluctuaciones')\n",
        "plt.legend(loc= 'best')\n",
        "plt.subplot(413)\n",
        "plt.plot(seasonal, label='variaciones estacionales')\n",
        "plt.title('variaciones estacionales')\n",
        "plt.legend(loc='best')\n",
        "plt.subplot(414)\n",
        "plt.plot(residual, label='variaciones irregulares')\n",
        "plt.title('variaciones irregulares')\n",
        "plt.legend(loc='best')\n",
        "plt.tight_layout()\n"
      ],
      "execution_count": 106,
      "outputs": [
        {
          "output_type": "display_data",
          "data": {
            "image/png": "[encoded data removed]",
            "text/plain": [
              "<Figure size 1440x216 with 4 Axes>"
            ]
          },
          "metadata": {
            "tags": [],
            "needs_background": "light"
          }
        }
      ]
    },
    {
      "cell_type": "code",
      "metadata": {
        "id": "4-qUqMcPmyiW"
      },
      "source": [
        "#aplicacion del modelo ARIMA\n",
        "modelo = sm.tsa.ARIMA(df4)"
      ],
      "execution_count": null,
      "outputs": []
    }
  ]
}