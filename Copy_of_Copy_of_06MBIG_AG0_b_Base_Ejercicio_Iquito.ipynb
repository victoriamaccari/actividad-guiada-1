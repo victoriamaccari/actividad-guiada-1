{
  "nbformat": 4,
  "nbformat_minor": 0,
  "metadata": {
    "colab": {
      "name": "Copy of Copy of 06MBIG - AG0 - b -  Base Ejercicio - Iquito",
      "provenance": [],
      "toc_visible": true,
      "authorship_tag": "ABX9TyOulkFkQnV/KAzB6UYZ2nKH",
      "include_colab_link": true
    },
    "kernelspec": {
      "name": "python3",
      "display_name": "Python 3"
    }
  },
  "cells": [
    {
      "cell_type": "markdown",
      "metadata": {
        "id": "view-in-github",
        "colab_type": "text"
      },
      "source": [
        "<a href=\"https://colab.research.google.com/github/victoriamaccari/actividad-guiada-1/blob/master/Copy_of_Copy_of_06MBIG_AG0_b_Base_Ejercicio_Iquito.ipynb\" target=\"_parent\"><img src=\"https://colab.research.google.com/assets/colab-badge.svg\" alt=\"Open In Colab\"/></a>"
      ]
    },
    {
      "cell_type": "markdown",
      "metadata": {
        "id": "Z-gJgdG0JJZQ"
      },
      "source": [
        "# Carga de datos"
      ]
    },
    {
      "cell_type": "code",
      "metadata": {
        "id": "rW30Ek43KJPk"
      },
      "source": [
        "# carga de datos\n",
        "import pandas as pd\n",
        "import io\n",
        "from google.colab import files\n",
        "# manipulación y visualización\n",
        "import matplotlib.pyplot as plt\n",
        "import numpy as np\n",
        "import itertools\n",
        "import seaborn as sns"
      ],
      "execution_count": 1,
      "outputs": []
    },
    {
      "cell_type": "code",
      "metadata": {
        "id": "6biQgsiIKUtl"
      },
      "source": [
        "def upload_files (index_fields):\n",
        "  uploaded = files.upload()\n",
        "  for fn in uploaded.keys():\n",
        "    print('User uploaded file \"{name}\" with length {length} bytes'.format(\n",
        "        name=fn, length=len(uploaded[fn])))\n",
        "    df = pd.read_csv(io.StringIO(uploaded[fn].decode('utf-8')), index_col = index_fields)\n",
        "    return df"
      ],
      "execution_count": 2,
      "outputs": []
    },
    {
      "cell_type": "code",
      "metadata": {
        "id": "vVzX4tNjKXz4",
        "outputId": "f0ce8987-87a9-48a0-e685-dd4606b380f0",
        "colab": {
          "resources": {
            "http://localhost:8080/nbextensions/google.colab/files.js": {
              "data": "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",
              "ok": true,
              "headers": [
                [
                  "content-type",
                  "application/javascript"
                ]
              ],
              "status": 200,
              "status_text": ""
            }
          },
          "base_uri": "https://localhost:8080/",
          "height": 327
        }
      },
      "source": [
        "train = upload_files(['weekofyear', 'year'])\n",
        "train.head()"
      ],
      "execution_count": 3,
      "outputs": [
        {
          "output_type": "display_data",
          "data": {
            "text/html": [
              "\n",
              "     <input type=\"file\" id=\"files-b39e60ee-1977-4e8c-ad62-4add846c4412\" name=\"files[]\" multiple disabled\n",
              "        style=\"border:none\" />\n",
              "     <output id=\"result-b39e60ee-1977-4e8c-ad62-4add846c4412\">\n",
              "      Upload widget is only available when the cell has been executed in the\n",
              "      current browser session. Please rerun this cell to enable.\n",
              "      </output>\n",
              "      <script src=\"/nbextensions/google.colab/files.js\"></script> "
            ],
            "text/plain": [
              "<IPython.core.display.HTML object>"
            ]
          },
          "metadata": {
            "tags": []
          }
        },
        {
          "output_type": "stream",
          "text": [
            "Saving dengue_features_train (1).xls to dengue_features_train (1).xls\n",
            "User uploaded file \"dengue_features_train (1).xls\" with length 287139 bytes\n"
          ],
          "name": "stdout"
        },
        {
          "output_type": "execute_result",
          "data": {
            "text/html": [
              "<div>\n",
              "<style scoped>\n",
              "    .dataframe tbody tr th:only-of-type {\n",
              "        vertical-align: middle;\n",
              "    }\n",
              "\n",
              "    .dataframe tbody tr th {\n",
              "        vertical-align: top;\n",
              "    }\n",
              "\n",
              "    .dataframe thead th {\n",
              "        text-align: right;\n",
              "    }\n",
              "</style>\n",
              "<table border=\"1\" class=\"dataframe\">\n",
              "  <thead>\n",
              "    <tr style=\"text-align: right;\">\n",
              "      <th></th>\n",
              "      <th></th>\n",
              "      <th>city</th>\n",
              "      <th>week_start_date</th>\n",
              "      <th>ndvi_ne</th>\n",
              "      <th>ndvi_nw</th>\n",
              "      <th>ndvi_se</th>\n",
              "      <th>ndvi_sw</th>\n",
              "      <th>precipitation_amt_mm</th>\n",
              "      <th>reanalysis_air_temp_k</th>\n",
              "      <th>reanalysis_avg_temp_k</th>\n",
              "      <th>reanalysis_dew_point_temp_k</th>\n",
              "      <th>reanalysis_max_air_temp_k</th>\n",
              "      <th>reanalysis_min_air_temp_k</th>\n",
              "      <th>reanalysis_precip_amt_kg_per_m2</th>\n",
              "      <th>reanalysis_relative_humidity_percent</th>\n",
              "      <th>reanalysis_sat_precip_amt_mm</th>\n",
              "      <th>reanalysis_specific_humidity_g_per_kg</th>\n",
              "      <th>reanalysis_tdtr_k</th>\n",
              "      <th>station_avg_temp_c</th>\n",
              "      <th>station_diur_temp_rng_c</th>\n",
              "      <th>station_max_temp_c</th>\n",
              "      <th>station_min_temp_c</th>\n",
              "      <th>station_precip_mm</th>\n",
              "    </tr>\n",
              "    <tr>\n",
              "      <th>weekofyear</th>\n",
              "      <th>year</th>\n",
              "      <th></th>\n",
              "      <th></th>\n",
              "      <th></th>\n",
              "      <th></th>\n",
              "      <th></th>\n",
              "      <th></th>\n",
              "      <th></th>\n",
              "      <th></th>\n",
              "      <th></th>\n",
              "      <th></th>\n",
              "      <th></th>\n",
              "      <th></th>\n",
              "      <th></th>\n",
              "      <th></th>\n",
              "      <th></th>\n",
              "      <th></th>\n",
              "      <th></th>\n",
              "      <th></th>\n",
              "      <th></th>\n",
              "      <th></th>\n",
              "      <th></th>\n",
              "      <th></th>\n",
              "    </tr>\n",
              "  </thead>\n",
              "  <tbody>\n",
              "    <tr>\n",
              "      <th>18</th>\n",
              "      <th>1990</th>\n",
              "      <td>sj</td>\n",
              "      <td>1990-04-30</td>\n",
              "      <td>0.122600</td>\n",
              "      <td>0.103725</td>\n",
              "      <td>0.198483</td>\n",
              "      <td>0.177617</td>\n",
              "      <td>12.42</td>\n",
              "      <td>297.572857</td>\n",
              "      <td>297.742857</td>\n",
              "      <td>292.414286</td>\n",
              "      <td>299.8</td>\n",
              "      <td>295.9</td>\n",
              "      <td>32.00</td>\n",
              "      <td>73.365714</td>\n",
              "      <td>12.42</td>\n",
              "      <td>14.012857</td>\n",
              "      <td>2.628571</td>\n",
              "      <td>25.442857</td>\n",
              "      <td>6.900000</td>\n",
              "      <td>29.4</td>\n",
              "      <td>20.0</td>\n",
              "      <td>16.0</td>\n",
              "    </tr>\n",
              "    <tr>\n",
              "      <th>19</th>\n",
              "      <th>1990</th>\n",
              "      <td>sj</td>\n",
              "      <td>1990-05-07</td>\n",
              "      <td>0.169900</td>\n",
              "      <td>0.142175</td>\n",
              "      <td>0.162357</td>\n",
              "      <td>0.155486</td>\n",
              "      <td>22.82</td>\n",
              "      <td>298.211429</td>\n",
              "      <td>298.442857</td>\n",
              "      <td>293.951429</td>\n",
              "      <td>300.9</td>\n",
              "      <td>296.4</td>\n",
              "      <td>17.94</td>\n",
              "      <td>77.368571</td>\n",
              "      <td>22.82</td>\n",
              "      <td>15.372857</td>\n",
              "      <td>2.371429</td>\n",
              "      <td>26.714286</td>\n",
              "      <td>6.371429</td>\n",
              "      <td>31.7</td>\n",
              "      <td>22.2</td>\n",
              "      <td>8.6</td>\n",
              "    </tr>\n",
              "    <tr>\n",
              "      <th>20</th>\n",
              "      <th>1990</th>\n",
              "      <td>sj</td>\n",
              "      <td>1990-05-14</td>\n",
              "      <td>0.032250</td>\n",
              "      <td>0.172967</td>\n",
              "      <td>0.157200</td>\n",
              "      <td>0.170843</td>\n",
              "      <td>34.54</td>\n",
              "      <td>298.781429</td>\n",
              "      <td>298.878571</td>\n",
              "      <td>295.434286</td>\n",
              "      <td>300.5</td>\n",
              "      <td>297.3</td>\n",
              "      <td>26.10</td>\n",
              "      <td>82.052857</td>\n",
              "      <td>34.54</td>\n",
              "      <td>16.848571</td>\n",
              "      <td>2.300000</td>\n",
              "      <td>26.714286</td>\n",
              "      <td>6.485714</td>\n",
              "      <td>32.2</td>\n",
              "      <td>22.8</td>\n",
              "      <td>41.4</td>\n",
              "    </tr>\n",
              "    <tr>\n",
              "      <th>21</th>\n",
              "      <th>1990</th>\n",
              "      <td>sj</td>\n",
              "      <td>1990-05-21</td>\n",
              "      <td>0.128633</td>\n",
              "      <td>0.245067</td>\n",
              "      <td>0.227557</td>\n",
              "      <td>0.235886</td>\n",
              "      <td>15.36</td>\n",
              "      <td>298.987143</td>\n",
              "      <td>299.228571</td>\n",
              "      <td>295.310000</td>\n",
              "      <td>301.4</td>\n",
              "      <td>297.0</td>\n",
              "      <td>13.90</td>\n",
              "      <td>80.337143</td>\n",
              "      <td>15.36</td>\n",
              "      <td>16.672857</td>\n",
              "      <td>2.428571</td>\n",
              "      <td>27.471429</td>\n",
              "      <td>6.771429</td>\n",
              "      <td>33.3</td>\n",
              "      <td>23.3</td>\n",
              "      <td>4.0</td>\n",
              "    </tr>\n",
              "    <tr>\n",
              "      <th>22</th>\n",
              "      <th>1990</th>\n",
              "      <td>sj</td>\n",
              "      <td>1990-05-28</td>\n",
              "      <td>0.196200</td>\n",
              "      <td>0.262200</td>\n",
              "      <td>0.251200</td>\n",
              "      <td>0.247340</td>\n",
              "      <td>7.52</td>\n",
              "      <td>299.518571</td>\n",
              "      <td>299.664286</td>\n",
              "      <td>295.821429</td>\n",
              "      <td>301.9</td>\n",
              "      <td>297.5</td>\n",
              "      <td>12.20</td>\n",
              "      <td>80.460000</td>\n",
              "      <td>7.52</td>\n",
              "      <td>17.210000</td>\n",
              "      <td>3.014286</td>\n",
              "      <td>28.942857</td>\n",
              "      <td>9.371429</td>\n",
              "      <td>35.0</td>\n",
              "      <td>23.9</td>\n",
              "      <td>5.8</td>\n",
              "    </tr>\n",
              "  </tbody>\n",
              "</table>\n",
              "</div>"
            ],
            "text/plain": [
              "                city week_start_date  ...  station_min_temp_c  station_precip_mm\n",
              "weekofyear year                       ...                                       \n",
              "18         1990   sj      1990-04-30  ...                20.0               16.0\n",
              "19         1990   sj      1990-05-07  ...                22.2                8.6\n",
              "20         1990   sj      1990-05-14  ...                22.8               41.4\n",
              "21         1990   sj      1990-05-21  ...                23.3                4.0\n",
              "22         1990   sj      1990-05-28  ...                23.9                5.8\n",
              "\n",
              "[5 rows x 22 columns]"
            ]
          },
          "metadata": {
            "tags": []
          },
          "execution_count": 3
        }
      ]
    },
    {
      "cell_type": "markdown",
      "metadata": {
        "id": "ewyvA3ZEJXRg"
      },
      "source": [
        "# Preproceso"
      ]
    },
    {
      "cell_type": "markdown",
      "metadata": {
        "id": "mcd0TJ1gJhVs"
      },
      "source": [
        "Me quedo con los datos que corresponden a la ciudad Iquito"
      ]
    },
    {
      "cell_type": "code",
      "metadata": {
        "id": "MNv39QI_KgEI",
        "outputId": "361b7003-c549-4d55-8b3d-83a192ea14a8",
        "colab": {
          "base_uri": "https://localhost:8080/",
          "height": 272
        }
      },
      "source": [
        "df_iq = train[train['city'] == 'iq']\n",
        "print(df_iq)"
      ],
      "execution_count": 4,
      "outputs": [
        {
          "output_type": "stream",
          "text": [
            "                city week_start_date  ...  station_min_temp_c  station_precip_mm\n",
            "weekofyear year                       ...                                       \n",
            "26         2000   iq      2000-07-01  ...                20.7                3.0\n",
            "27         2000   iq      2000-07-08  ...                20.8               55.6\n",
            "28         2000   iq      2000-07-15  ...                20.7               38.1\n",
            "29         2000   iq      2000-07-22  ...                14.7               30.0\n",
            "30         2000   iq      2000-07-29  ...                19.1                4.0\n",
            "...              ...             ...  ...                 ...                ...\n",
            "21         2010   iq      2010-05-28  ...                22.4               27.0\n",
            "22         2010   iq      2010-06-04  ...                21.7               36.6\n",
            "23         2010   iq      2010-06-11  ...                19.2                7.4\n",
            "24         2010   iq      2010-06-18  ...                21.0               16.0\n",
            "25         2010   iq      2010-06-25  ...                22.2               20.4\n",
            "\n",
            "[520 rows x 22 columns]\n"
          ],
          "name": "stdout"
        }
      ]
    },
    {
      "cell_type": "markdown",
      "metadata": {
        "id": "3S7xszc3J19p"
      },
      "source": [
        "Elimino la columna 'week_start_date' porque tengo la misma informacion en las columnas 'weekofyear', y 'year'"
      ]
    },
    {
      "cell_type": "code",
      "metadata": {
        "id": "1VIxsnmsKnLf",
        "outputId": "c1afdef4-f5c8-4a07-e2a3-7a8c4cc606fa",
        "colab": {
          "base_uri": "https://localhost:8080/",
          "height": 340
        }
      },
      "source": [
        "df_iq.drop(\"week_start_date\", axis = 1, inplace = True)\n",
        "df_iq.head()"
      ],
      "execution_count": 5,
      "outputs": [
        {
          "output_type": "stream",
          "text": [
            "/usr/local/lib/python3.6/dist-packages/pandas/core/frame.py:4169: SettingWithCopyWarning: \n",
            "A value is trying to be set on a copy of a slice from a DataFrame\n",
            "\n",
            "See the caveats in the documentation: https://pandas.pydata.org/pandas-docs/stable/user_guide/indexing.html#returning-a-view-versus-a-copy\n",
            "  errors=errors,\n"
          ],
          "name": "stderr"
        },
        {
          "output_type": "execute_result",
          "data": {
            "text/html": [
              "<div>\n",
              "<style scoped>\n",
              "    .dataframe tbody tr th:only-of-type {\n",
              "        vertical-align: middle;\n",
              "    }\n",
              "\n",
              "    .dataframe tbody tr th {\n",
              "        vertical-align: top;\n",
              "    }\n",
              "\n",
              "    .dataframe thead th {\n",
              "        text-align: right;\n",
              "    }\n",
              "</style>\n",
              "<table border=\"1\" class=\"dataframe\">\n",
              "  <thead>\n",
              "    <tr style=\"text-align: right;\">\n",
              "      <th></th>\n",
              "      <th></th>\n",
              "      <th>city</th>\n",
              "      <th>ndvi_ne</th>\n",
              "      <th>ndvi_nw</th>\n",
              "      <th>ndvi_se</th>\n",
              "      <th>ndvi_sw</th>\n",
              "      <th>precipitation_amt_mm</th>\n",
              "      <th>reanalysis_air_temp_k</th>\n",
              "      <th>reanalysis_avg_temp_k</th>\n",
              "      <th>reanalysis_dew_point_temp_k</th>\n",
              "      <th>reanalysis_max_air_temp_k</th>\n",
              "      <th>reanalysis_min_air_temp_k</th>\n",
              "      <th>reanalysis_precip_amt_kg_per_m2</th>\n",
              "      <th>reanalysis_relative_humidity_percent</th>\n",
              "      <th>reanalysis_sat_precip_amt_mm</th>\n",
              "      <th>reanalysis_specific_humidity_g_per_kg</th>\n",
              "      <th>reanalysis_tdtr_k</th>\n",
              "      <th>station_avg_temp_c</th>\n",
              "      <th>station_diur_temp_rng_c</th>\n",
              "      <th>station_max_temp_c</th>\n",
              "      <th>station_min_temp_c</th>\n",
              "      <th>station_precip_mm</th>\n",
              "    </tr>\n",
              "    <tr>\n",
              "      <th>weekofyear</th>\n",
              "      <th>year</th>\n",
              "      <th></th>\n",
              "      <th></th>\n",
              "      <th></th>\n",
              "      <th></th>\n",
              "      <th></th>\n",
              "      <th></th>\n",
              "      <th></th>\n",
              "      <th></th>\n",
              "      <th></th>\n",
              "      <th></th>\n",
              "      <th></th>\n",
              "      <th></th>\n",
              "      <th></th>\n",
              "      <th></th>\n",
              "      <th></th>\n",
              "      <th></th>\n",
              "      <th></th>\n",
              "      <th></th>\n",
              "      <th></th>\n",
              "      <th></th>\n",
              "      <th></th>\n",
              "    </tr>\n",
              "  </thead>\n",
              "  <tbody>\n",
              "    <tr>\n",
              "      <th>26</th>\n",
              "      <th>2000</th>\n",
              "      <td>iq</td>\n",
              "      <td>0.192886</td>\n",
              "      <td>0.132257</td>\n",
              "      <td>0.340886</td>\n",
              "      <td>0.247200</td>\n",
              "      <td>25.41</td>\n",
              "      <td>296.740000</td>\n",
              "      <td>298.450000</td>\n",
              "      <td>295.184286</td>\n",
              "      <td>307.3</td>\n",
              "      <td>293.1</td>\n",
              "      <td>43.19</td>\n",
              "      <td>92.418571</td>\n",
              "      <td>25.41</td>\n",
              "      <td>16.651429</td>\n",
              "      <td>8.928571</td>\n",
              "      <td>26.400000</td>\n",
              "      <td>10.775000</td>\n",
              "      <td>32.5</td>\n",
              "      <td>20.7</td>\n",
              "      <td>3.0</td>\n",
              "    </tr>\n",
              "    <tr>\n",
              "      <th>27</th>\n",
              "      <th>2000</th>\n",
              "      <td>iq</td>\n",
              "      <td>0.216833</td>\n",
              "      <td>0.276100</td>\n",
              "      <td>0.289457</td>\n",
              "      <td>0.241657</td>\n",
              "      <td>60.61</td>\n",
              "      <td>296.634286</td>\n",
              "      <td>298.428571</td>\n",
              "      <td>295.358571</td>\n",
              "      <td>306.6</td>\n",
              "      <td>291.1</td>\n",
              "      <td>46.00</td>\n",
              "      <td>93.581429</td>\n",
              "      <td>60.61</td>\n",
              "      <td>16.862857</td>\n",
              "      <td>10.314286</td>\n",
              "      <td>26.900000</td>\n",
              "      <td>11.566667</td>\n",
              "      <td>34.0</td>\n",
              "      <td>20.8</td>\n",
              "      <td>55.6</td>\n",
              "    </tr>\n",
              "    <tr>\n",
              "      <th>28</th>\n",
              "      <th>2000</th>\n",
              "      <td>iq</td>\n",
              "      <td>0.176757</td>\n",
              "      <td>0.173129</td>\n",
              "      <td>0.204114</td>\n",
              "      <td>0.128014</td>\n",
              "      <td>55.52</td>\n",
              "      <td>296.415714</td>\n",
              "      <td>297.392857</td>\n",
              "      <td>295.622857</td>\n",
              "      <td>304.5</td>\n",
              "      <td>292.6</td>\n",
              "      <td>64.77</td>\n",
              "      <td>95.848571</td>\n",
              "      <td>55.52</td>\n",
              "      <td>17.120000</td>\n",
              "      <td>7.385714</td>\n",
              "      <td>26.800000</td>\n",
              "      <td>11.466667</td>\n",
              "      <td>33.0</td>\n",
              "      <td>20.7</td>\n",
              "      <td>38.1</td>\n",
              "    </tr>\n",
              "    <tr>\n",
              "      <th>29</th>\n",
              "      <th>2000</th>\n",
              "      <td>iq</td>\n",
              "      <td>0.227729</td>\n",
              "      <td>0.145429</td>\n",
              "      <td>0.254200</td>\n",
              "      <td>0.200314</td>\n",
              "      <td>5.60</td>\n",
              "      <td>295.357143</td>\n",
              "      <td>296.228571</td>\n",
              "      <td>292.797143</td>\n",
              "      <td>303.6</td>\n",
              "      <td>288.6</td>\n",
              "      <td>23.96</td>\n",
              "      <td>87.234286</td>\n",
              "      <td>5.60</td>\n",
              "      <td>14.431429</td>\n",
              "      <td>9.114286</td>\n",
              "      <td>25.766667</td>\n",
              "      <td>10.533333</td>\n",
              "      <td>31.5</td>\n",
              "      <td>14.7</td>\n",
              "      <td>30.0</td>\n",
              "    </tr>\n",
              "    <tr>\n",
              "      <th>30</th>\n",
              "      <th>2000</th>\n",
              "      <td>iq</td>\n",
              "      <td>0.328643</td>\n",
              "      <td>0.322129</td>\n",
              "      <td>0.254371</td>\n",
              "      <td>0.361043</td>\n",
              "      <td>62.76</td>\n",
              "      <td>296.432857</td>\n",
              "      <td>297.635714</td>\n",
              "      <td>293.957143</td>\n",
              "      <td>307.0</td>\n",
              "      <td>291.5</td>\n",
              "      <td>31.80</td>\n",
              "      <td>88.161429</td>\n",
              "      <td>62.76</td>\n",
              "      <td>15.444286</td>\n",
              "      <td>9.500000</td>\n",
              "      <td>26.600000</td>\n",
              "      <td>11.480000</td>\n",
              "      <td>33.3</td>\n",
              "      <td>19.1</td>\n",
              "      <td>4.0</td>\n",
              "    </tr>\n",
              "  </tbody>\n",
              "</table>\n",
              "</div>"
            ],
            "text/plain": [
              "                city   ndvi_ne  ...  station_min_temp_c  station_precip_mm\n",
              "weekofyear year                 ...                                       \n",
              "26         2000   iq  0.192886  ...                20.7                3.0\n",
              "27         2000   iq  0.216833  ...                20.8               55.6\n",
              "28         2000   iq  0.176757  ...                20.7               38.1\n",
              "29         2000   iq  0.227729  ...                14.7               30.0\n",
              "30         2000   iq  0.328643  ...                19.1                4.0\n",
              "\n",
              "[5 rows x 21 columns]"
            ]
          },
          "metadata": {
            "tags": []
          },
          "execution_count": 5
        }
      ]
    },
    {
      "cell_type": "markdown",
      "metadata": {
        "id": "6Rra-fR0LvcW"
      },
      "source": [
        "Elimino la columna city"
      ]
    },
    {
      "cell_type": "code",
      "metadata": {
        "id": "rutMrCURLq91",
        "outputId": "455be9e1-a179-434b-ad85-a4d691cc83a2",
        "colab": {
          "base_uri": "https://localhost:8080/",
          "height": 340
        }
      },
      "source": [
        "df_iq.drop(\"city\", axis = 1, inplace = True)\n",
        "df_iq.head()"
      ],
      "execution_count": 27,
      "outputs": [
        {
          "output_type": "stream",
          "text": [
            "/usr/local/lib/python3.6/dist-packages/pandas/core/frame.py:4169: SettingWithCopyWarning: \n",
            "A value is trying to be set on a copy of a slice from a DataFrame\n",
            "\n",
            "See the caveats in the documentation: https://pandas.pydata.org/pandas-docs/stable/user_guide/indexing.html#returning-a-view-versus-a-copy\n",
            "  errors=errors,\n"
          ],
          "name": "stderr"
        },
        {
          "output_type": "execute_result",
          "data": {
            "text/html": [
              "<div>\n",
              "<style scoped>\n",
              "    .dataframe tbody tr th:only-of-type {\n",
              "        vertical-align: middle;\n",
              "    }\n",
              "\n",
              "    .dataframe tbody tr th {\n",
              "        vertical-align: top;\n",
              "    }\n",
              "\n",
              "    .dataframe thead th {\n",
              "        text-align: right;\n",
              "    }\n",
              "</style>\n",
              "<table border=\"1\" class=\"dataframe\">\n",
              "  <thead>\n",
              "    <tr style=\"text-align: right;\">\n",
              "      <th></th>\n",
              "      <th></th>\n",
              "      <th>ndvi_ne</th>\n",
              "      <th>ndvi_nw</th>\n",
              "      <th>ndvi_se</th>\n",
              "      <th>ndvi_sw</th>\n",
              "      <th>precipitation_amt_mm</th>\n",
              "      <th>reanalysis_air_temp_k</th>\n",
              "      <th>reanalysis_avg_temp_k</th>\n",
              "      <th>reanalysis_dew_point_temp_k</th>\n",
              "      <th>reanalysis_max_air_temp_k</th>\n",
              "      <th>reanalysis_min_air_temp_k</th>\n",
              "      <th>reanalysis_precip_amt_kg_per_m2</th>\n",
              "      <th>reanalysis_relative_humidity_percent</th>\n",
              "      <th>reanalysis_sat_precip_amt_mm</th>\n",
              "      <th>reanalysis_specific_humidity_g_per_kg</th>\n",
              "      <th>reanalysis_tdtr_k</th>\n",
              "      <th>station_avg_temp_c</th>\n",
              "      <th>station_diur_temp_rng_c</th>\n",
              "      <th>station_max_temp_c</th>\n",
              "      <th>station_min_temp_c</th>\n",
              "      <th>station_precip_mm</th>\n",
              "    </tr>\n",
              "    <tr>\n",
              "      <th>weekofyear</th>\n",
              "      <th>year</th>\n",
              "      <th></th>\n",
              "      <th></th>\n",
              "      <th></th>\n",
              "      <th></th>\n",
              "      <th></th>\n",
              "      <th></th>\n",
              "      <th></th>\n",
              "      <th></th>\n",
              "      <th></th>\n",
              "      <th></th>\n",
              "      <th></th>\n",
              "      <th></th>\n",
              "      <th></th>\n",
              "      <th></th>\n",
              "      <th></th>\n",
              "      <th></th>\n",
              "      <th></th>\n",
              "      <th></th>\n",
              "      <th></th>\n",
              "      <th></th>\n",
              "    </tr>\n",
              "  </thead>\n",
              "  <tbody>\n",
              "    <tr>\n",
              "      <th>26</th>\n",
              "      <th>2000</th>\n",
              "      <td>0.192886</td>\n",
              "      <td>0.132257</td>\n",
              "      <td>0.340886</td>\n",
              "      <td>0.247200</td>\n",
              "      <td>25.41</td>\n",
              "      <td>296.740000</td>\n",
              "      <td>298.450000</td>\n",
              "      <td>295.184286</td>\n",
              "      <td>307.3</td>\n",
              "      <td>293.1</td>\n",
              "      <td>43.19</td>\n",
              "      <td>92.418571</td>\n",
              "      <td>25.41</td>\n",
              "      <td>16.651429</td>\n",
              "      <td>8.928571</td>\n",
              "      <td>26.400000</td>\n",
              "      <td>10.775000</td>\n",
              "      <td>32.5</td>\n",
              "      <td>20.7</td>\n",
              "      <td>3.0</td>\n",
              "    </tr>\n",
              "    <tr>\n",
              "      <th>27</th>\n",
              "      <th>2000</th>\n",
              "      <td>0.216833</td>\n",
              "      <td>0.276100</td>\n",
              "      <td>0.289457</td>\n",
              "      <td>0.241657</td>\n",
              "      <td>60.61</td>\n",
              "      <td>296.634286</td>\n",
              "      <td>298.428571</td>\n",
              "      <td>295.358571</td>\n",
              "      <td>306.6</td>\n",
              "      <td>291.1</td>\n",
              "      <td>46.00</td>\n",
              "      <td>93.581429</td>\n",
              "      <td>60.61</td>\n",
              "      <td>16.862857</td>\n",
              "      <td>10.314286</td>\n",
              "      <td>26.900000</td>\n",
              "      <td>11.566667</td>\n",
              "      <td>34.0</td>\n",
              "      <td>20.8</td>\n",
              "      <td>55.6</td>\n",
              "    </tr>\n",
              "    <tr>\n",
              "      <th>28</th>\n",
              "      <th>2000</th>\n",
              "      <td>0.176757</td>\n",
              "      <td>0.173129</td>\n",
              "      <td>0.204114</td>\n",
              "      <td>0.128014</td>\n",
              "      <td>55.52</td>\n",
              "      <td>296.415714</td>\n",
              "      <td>297.392857</td>\n",
              "      <td>295.622857</td>\n",
              "      <td>304.5</td>\n",
              "      <td>292.6</td>\n",
              "      <td>64.77</td>\n",
              "      <td>95.848571</td>\n",
              "      <td>55.52</td>\n",
              "      <td>17.120000</td>\n",
              "      <td>7.385714</td>\n",
              "      <td>26.800000</td>\n",
              "      <td>11.466667</td>\n",
              "      <td>33.0</td>\n",
              "      <td>20.7</td>\n",
              "      <td>38.1</td>\n",
              "    </tr>\n",
              "    <tr>\n",
              "      <th>29</th>\n",
              "      <th>2000</th>\n",
              "      <td>0.227729</td>\n",
              "      <td>0.145429</td>\n",
              "      <td>0.254200</td>\n",
              "      <td>0.200314</td>\n",
              "      <td>5.60</td>\n",
              "      <td>295.357143</td>\n",
              "      <td>296.228571</td>\n",
              "      <td>292.797143</td>\n",
              "      <td>303.6</td>\n",
              "      <td>288.6</td>\n",
              "      <td>23.96</td>\n",
              "      <td>87.234286</td>\n",
              "      <td>5.60</td>\n",
              "      <td>14.431429</td>\n",
              "      <td>9.114286</td>\n",
              "      <td>25.766667</td>\n",
              "      <td>10.533333</td>\n",
              "      <td>31.5</td>\n",
              "      <td>14.7</td>\n",
              "      <td>30.0</td>\n",
              "    </tr>\n",
              "    <tr>\n",
              "      <th>30</th>\n",
              "      <th>2000</th>\n",
              "      <td>0.328643</td>\n",
              "      <td>0.322129</td>\n",
              "      <td>0.254371</td>\n",
              "      <td>0.361043</td>\n",
              "      <td>62.76</td>\n",
              "      <td>296.432857</td>\n",
              "      <td>297.635714</td>\n",
              "      <td>293.957143</td>\n",
              "      <td>307.0</td>\n",
              "      <td>291.5</td>\n",
              "      <td>31.80</td>\n",
              "      <td>88.161429</td>\n",
              "      <td>62.76</td>\n",
              "      <td>15.444286</td>\n",
              "      <td>9.500000</td>\n",
              "      <td>26.600000</td>\n",
              "      <td>11.480000</td>\n",
              "      <td>33.3</td>\n",
              "      <td>19.1</td>\n",
              "      <td>4.0</td>\n",
              "    </tr>\n",
              "  </tbody>\n",
              "</table>\n",
              "</div>"
            ],
            "text/plain": [
              "                  ndvi_ne   ndvi_nw  ...  station_min_temp_c  station_precip_mm\n",
              "weekofyear year                      ...                                       \n",
              "26         2000  0.192886  0.132257  ...                20.7                3.0\n",
              "27         2000  0.216833  0.276100  ...                20.8               55.6\n",
              "28         2000  0.176757  0.173129  ...                20.7               38.1\n",
              "29         2000  0.227729  0.145429  ...                14.7               30.0\n",
              "30         2000  0.328643  0.322129  ...                19.1                4.0\n",
              "\n",
              "[5 rows x 20 columns]"
            ]
          },
          "metadata": {
            "tags": []
          },
          "execution_count": 27
        }
      ]
    },
    {
      "cell_type": "code",
      "metadata": {
        "id": "liRFk35HKvpY",
        "outputId": "49e8f31d-bc59-4ff5-dc12-b91e3c55aaef",
        "colab": {
          "base_uri": "https://localhost:8080/",
          "height": 34
        }
      },
      "source": [
        "df_iq.shape"
      ],
      "execution_count": 28,
      "outputs": [
        {
          "output_type": "execute_result",
          "data": {
            "text/plain": [
              "(520, 20)"
            ]
          },
          "metadata": {
            "tags": []
          },
          "execution_count": 28
        }
      ]
    },
    {
      "cell_type": "markdown",
      "metadata": {
        "id": "PfSoCuazKQm4"
      },
      "source": [
        "Para observar las variables utilizo la funcion describe()"
      ]
    },
    {
      "cell_type": "code",
      "metadata": {
        "id": "eY-zis_nKLjW",
        "outputId": "7df72a83-74be-40ad-ae13-a46f7ff2ff4a",
        "colab": {
          "base_uri": "https://localhost:8080/",
          "height": 317
        }
      },
      "source": [
        "df_iq.describe()"
      ],
      "execution_count": 29,
      "outputs": [
        {
          "output_type": "execute_result",
          "data": {
            "text/html": [
              "<div>\n",
              "<style scoped>\n",
              "    .dataframe tbody tr th:only-of-type {\n",
              "        vertical-align: middle;\n",
              "    }\n",
              "\n",
              "    .dataframe tbody tr th {\n",
              "        vertical-align: top;\n",
              "    }\n",
              "\n",
              "    .dataframe thead th {\n",
              "        text-align: right;\n",
              "    }\n",
              "</style>\n",
              "<table border=\"1\" class=\"dataframe\">\n",
              "  <thead>\n",
              "    <tr style=\"text-align: right;\">\n",
              "      <th></th>\n",
              "      <th>ndvi_ne</th>\n",
              "      <th>ndvi_nw</th>\n",
              "      <th>ndvi_se</th>\n",
              "      <th>ndvi_sw</th>\n",
              "      <th>precipitation_amt_mm</th>\n",
              "      <th>reanalysis_air_temp_k</th>\n",
              "      <th>reanalysis_avg_temp_k</th>\n",
              "      <th>reanalysis_dew_point_temp_k</th>\n",
              "      <th>reanalysis_max_air_temp_k</th>\n",
              "      <th>reanalysis_min_air_temp_k</th>\n",
              "      <th>reanalysis_precip_amt_kg_per_m2</th>\n",
              "      <th>reanalysis_relative_humidity_percent</th>\n",
              "      <th>reanalysis_sat_precip_amt_mm</th>\n",
              "      <th>reanalysis_specific_humidity_g_per_kg</th>\n",
              "      <th>reanalysis_tdtr_k</th>\n",
              "      <th>station_avg_temp_c</th>\n",
              "      <th>station_diur_temp_rng_c</th>\n",
              "      <th>station_max_temp_c</th>\n",
              "      <th>station_min_temp_c</th>\n",
              "      <th>station_precip_mm</th>\n",
              "    </tr>\n",
              "  </thead>\n",
              "  <tbody>\n",
              "    <tr>\n",
              "      <th>count</th>\n",
              "      <td>520.000000</td>\n",
              "      <td>520.000000</td>\n",
              "      <td>520.000000</td>\n",
              "      <td>520.000000</td>\n",
              "      <td>520.000000</td>\n",
              "      <td>520.000000</td>\n",
              "      <td>520.000000</td>\n",
              "      <td>520.000000</td>\n",
              "      <td>520.000000</td>\n",
              "      <td>520.000000</td>\n",
              "      <td>520.000000</td>\n",
              "      <td>520.000000</td>\n",
              "      <td>520.000000</td>\n",
              "      <td>520.000000</td>\n",
              "      <td>520.000000</td>\n",
              "      <td>520.000000</td>\n",
              "      <td>520.000000</td>\n",
              "      <td>520.000000</td>\n",
              "      <td>520.000000</td>\n",
              "      <td>520.000000</td>\n",
              "    </tr>\n",
              "    <tr>\n",
              "      <th>mean</th>\n",
              "      <td>0.263654</td>\n",
              "      <td>0.238813</td>\n",
              "      <td>0.250099</td>\n",
              "      <td>0.266698</td>\n",
              "      <td>64.353750</td>\n",
              "      <td>297.869464</td>\n",
              "      <td>299.131374</td>\n",
              "      <td>295.498723</td>\n",
              "      <td>307.066923</td>\n",
              "      <td>292.879038</td>\n",
              "      <td>57.590500</td>\n",
              "      <td>88.666786</td>\n",
              "      <td>64.353750</td>\n",
              "      <td>17.102019</td>\n",
              "      <td>9.189835</td>\n",
              "      <td>27.506331</td>\n",
              "      <td>10.480468</td>\n",
              "      <td>33.966731</td>\n",
              "      <td>21.210385</td>\n",
              "      <td>61.581346</td>\n",
              "    </tr>\n",
              "    <tr>\n",
              "      <th>std</th>\n",
              "      <td>0.081591</td>\n",
              "      <td>0.076733</td>\n",
              "      <td>0.077669</td>\n",
              "      <td>0.086309</td>\n",
              "      <td>35.180867</td>\n",
              "      <td>1.171486</td>\n",
              "      <td>1.332866</td>\n",
              "      <td>1.414360</td>\n",
              "      <td>2.389779</td>\n",
              "      <td>1.662983</td>\n",
              "      <td>50.125737</td>\n",
              "      <td>7.580526</td>\n",
              "      <td>35.180867</td>\n",
              "      <td>1.443048</td>\n",
              "      <td>2.455961</td>\n",
              "      <td>0.908973</td>\n",
              "      <td>1.561678</td>\n",
              "      <td>1.355439</td>\n",
              "      <td>1.257734</td>\n",
              "      <td>62.968520</td>\n",
              "    </tr>\n",
              "    <tr>\n",
              "      <th>min</th>\n",
              "      <td>0.061729</td>\n",
              "      <td>0.035860</td>\n",
              "      <td>0.029880</td>\n",
              "      <td>0.064183</td>\n",
              "      <td>0.000000</td>\n",
              "      <td>294.635714</td>\n",
              "      <td>294.892857</td>\n",
              "      <td>290.088571</td>\n",
              "      <td>300.000000</td>\n",
              "      <td>286.900000</td>\n",
              "      <td>0.000000</td>\n",
              "      <td>57.787143</td>\n",
              "      <td>0.000000</td>\n",
              "      <td>12.111429</td>\n",
              "      <td>3.714286</td>\n",
              "      <td>21.400000</td>\n",
              "      <td>5.200000</td>\n",
              "      <td>30.100000</td>\n",
              "      <td>14.700000</td>\n",
              "      <td>0.000000</td>\n",
              "    </tr>\n",
              "    <tr>\n",
              "      <th>25%</th>\n",
              "      <td>0.199879</td>\n",
              "      <td>0.179530</td>\n",
              "      <td>0.194607</td>\n",
              "      <td>0.203843</td>\n",
              "      <td>39.147500</td>\n",
              "      <td>297.092500</td>\n",
              "      <td>298.217857</td>\n",
              "      <td>294.596429</td>\n",
              "      <td>305.200000</td>\n",
              "      <td>292.000000</td>\n",
              "      <td>24.212500</td>\n",
              "      <td>84.295000</td>\n",
              "      <td>39.147500</td>\n",
              "      <td>16.121429</td>\n",
              "      <td>7.371429</td>\n",
              "      <td>26.957500</td>\n",
              "      <td>9.400000</td>\n",
              "      <td>33.175000</td>\n",
              "      <td>20.600000</td>\n",
              "      <td>16.875000</td>\n",
              "    </tr>\n",
              "    <tr>\n",
              "      <th>50%</th>\n",
              "      <td>0.263528</td>\n",
              "      <td>0.233243</td>\n",
              "      <td>0.249764</td>\n",
              "      <td>0.262221</td>\n",
              "      <td>60.470000</td>\n",
              "      <td>297.822857</td>\n",
              "      <td>299.121429</td>\n",
              "      <td>295.852143</td>\n",
              "      <td>307.000000</td>\n",
              "      <td>293.100000</td>\n",
              "      <td>46.440000</td>\n",
              "      <td>90.942857</td>\n",
              "      <td>60.470000</td>\n",
              "      <td>17.428571</td>\n",
              "      <td>8.957143</td>\n",
              "      <td>27.587500</td>\n",
              "      <td>10.510000</td>\n",
              "      <td>34.000000</td>\n",
              "      <td>21.400000</td>\n",
              "      <td>44.050000</td>\n",
              "    </tr>\n",
              "    <tr>\n",
              "      <th>75%</th>\n",
              "      <td>0.320021</td>\n",
              "      <td>0.293989</td>\n",
              "      <td>0.302550</td>\n",
              "      <td>0.324877</td>\n",
              "      <td>86.005000</td>\n",
              "      <td>298.649286</td>\n",
              "      <td>300.123214</td>\n",
              "      <td>296.557143</td>\n",
              "      <td>308.700000</td>\n",
              "      <td>294.200000</td>\n",
              "      <td>71.072500</td>\n",
              "      <td>94.589643</td>\n",
              "      <td>86.005000</td>\n",
              "      <td>18.180357</td>\n",
              "      <td>11.003571</td>\n",
              "      <td>28.075000</td>\n",
              "      <td>11.627083</td>\n",
              "      <td>34.900000</td>\n",
              "      <td>22.000000</td>\n",
              "      <td>84.475000</td>\n",
              "    </tr>\n",
              "    <tr>\n",
              "      <th>max</th>\n",
              "      <td>0.508357</td>\n",
              "      <td>0.454429</td>\n",
              "      <td>0.538314</td>\n",
              "      <td>0.546017</td>\n",
              "      <td>210.830000</td>\n",
              "      <td>301.637143</td>\n",
              "      <td>302.928571</td>\n",
              "      <td>298.450000</td>\n",
              "      <td>314.000000</td>\n",
              "      <td>296.000000</td>\n",
              "      <td>362.030000</td>\n",
              "      <td>98.610000</td>\n",
              "      <td>210.830000</td>\n",
              "      <td>20.461429</td>\n",
              "      <td>16.028571</td>\n",
              "      <td>30.800000</td>\n",
              "      <td>15.800000</td>\n",
              "      <td>42.200000</td>\n",
              "      <td>24.200000</td>\n",
              "      <td>543.300000</td>\n",
              "    </tr>\n",
              "  </tbody>\n",
              "</table>\n",
              "</div>"
            ],
            "text/plain": [
              "          ndvi_ne     ndvi_nw  ...  station_min_temp_c  station_precip_mm\n",
              "count  520.000000  520.000000  ...          520.000000         520.000000\n",
              "mean     0.263654    0.238813  ...           21.210385          61.581346\n",
              "std      0.081591    0.076733  ...            1.257734          62.968520\n",
              "min      0.061729    0.035860  ...           14.700000           0.000000\n",
              "25%      0.199879    0.179530  ...           20.600000          16.875000\n",
              "50%      0.263528    0.233243  ...           21.400000          44.050000\n",
              "75%      0.320021    0.293989  ...           22.000000          84.475000\n",
              "max      0.508357    0.454429  ...           24.200000         543.300000\n",
              "\n",
              "[8 rows x 20 columns]"
            ]
          },
          "metadata": {
            "tags": []
          },
          "execution_count": 29
        }
      ]
    },
    {
      "cell_type": "markdown",
      "metadata": {
        "id": "9l_K10gjKYnl"
      },
      "source": [
        "Observo si existen valores perdidos"
      ]
    },
    {
      "cell_type": "code",
      "metadata": {
        "id": "lPJr9KSfK0nQ",
        "outputId": "8dfc8718-69b3-40ac-ec23-fe77f45a903d",
        "colab": {
          "base_uri": "https://localhost:8080/",
          "height": 374
        }
      },
      "source": [
        "pd.isnull(df_iq).any()"
      ],
      "execution_count": 30,
      "outputs": [
        {
          "output_type": "execute_result",
          "data": {
            "text/plain": [
              "ndvi_ne                                  False\n",
              "ndvi_nw                                  False\n",
              "ndvi_se                                  False\n",
              "ndvi_sw                                  False\n",
              "precipitation_amt_mm                     False\n",
              "reanalysis_air_temp_k                    False\n",
              "reanalysis_avg_temp_k                    False\n",
              "reanalysis_dew_point_temp_k              False\n",
              "reanalysis_max_air_temp_k                False\n",
              "reanalysis_min_air_temp_k                False\n",
              "reanalysis_precip_amt_kg_per_m2          False\n",
              "reanalysis_relative_humidity_percent     False\n",
              "reanalysis_sat_precip_amt_mm             False\n",
              "reanalysis_specific_humidity_g_per_kg    False\n",
              "reanalysis_tdtr_k                        False\n",
              "station_avg_temp_c                       False\n",
              "station_diur_temp_rng_c                  False\n",
              "station_max_temp_c                       False\n",
              "station_min_temp_c                       False\n",
              "station_precip_mm                        False\n",
              "dtype: bool"
            ]
          },
          "metadata": {
            "tags": []
          },
          "execution_count": 30
        }
      ]
    },
    {
      "cell_type": "markdown",
      "metadata": {
        "id": "rCosSfdjKfdQ"
      },
      "source": [
        "Con el metodo fillna le asigno a los valores perdidos el valor  del anterior o el ultimo dato conocido"
      ]
    },
    {
      "cell_type": "code",
      "metadata": {
        "id": "pgxIJLogK8it",
        "outputId": "9f84df8e-5eba-4868-e1a9-4e7569dae442",
        "colab": {
          "base_uri": "https://localhost:8080/",
          "height": 479
        }
      },
      "source": [
        "df_iq.fillna(method='ffill', inplace=True)\n",
        "pd.isnull(df_iq).any()"
      ],
      "execution_count": 31,
      "outputs": [
        {
          "output_type": "stream",
          "text": [
            "/usr/local/lib/python3.6/dist-packages/pandas/core/frame.py:4322: SettingWithCopyWarning: \n",
            "A value is trying to be set on a copy of a slice from a DataFrame\n",
            "\n",
            "See the caveats in the documentation: https://pandas.pydata.org/pandas-docs/stable/user_guide/indexing.html#returning-a-view-versus-a-copy\n",
            "  downcast=downcast,\n"
          ],
          "name": "stderr"
        },
        {
          "output_type": "execute_result",
          "data": {
            "text/plain": [
              "ndvi_ne                                  False\n",
              "ndvi_nw                                  False\n",
              "ndvi_se                                  False\n",
              "ndvi_sw                                  False\n",
              "precipitation_amt_mm                     False\n",
              "reanalysis_air_temp_k                    False\n",
              "reanalysis_avg_temp_k                    False\n",
              "reanalysis_dew_point_temp_k              False\n",
              "reanalysis_max_air_temp_k                False\n",
              "reanalysis_min_air_temp_k                False\n",
              "reanalysis_precip_amt_kg_per_m2          False\n",
              "reanalysis_relative_humidity_percent     False\n",
              "reanalysis_sat_precip_amt_mm             False\n",
              "reanalysis_specific_humidity_g_per_kg    False\n",
              "reanalysis_tdtr_k                        False\n",
              "station_avg_temp_c                       False\n",
              "station_diur_temp_rng_c                  False\n",
              "station_max_temp_c                       False\n",
              "station_min_temp_c                       False\n",
              "station_precip_mm                        False\n",
              "dtype: bool"
            ]
          },
          "metadata": {
            "tags": []
          },
          "execution_count": 31
        }
      ]
    },
    {
      "cell_type": "markdown",
      "metadata": {
        "id": "wnQIXgd2LDR8"
      },
      "source": [
        "Normalizo los datos a partir de los coeficientes mínimo y máximo de la colección de entrenamiento"
      ]
    },
    {
      "cell_type": "code",
      "metadata": {
        "id": "o2kY-IFfLFbL",
        "outputId": "3fbb89f3-90e6-49e6-d491-0ee164d82191",
        "colab": {
          "base_uri": "https://localhost:8080/",
          "height": 34
        }
      },
      "source": [
        "from sklearn.preprocessing import MinMaxScaler\n",
        "# performin min-max scaling each continuous feature column to the range [0, 1]\n",
        "scaler = MinMaxScaler()\n",
        "iq_norm = scaler.fit_transform(df_iq)\n",
        "iq_norm.shape\n"
      ],
      "execution_count": 52,
      "outputs": [
        {
          "output_type": "execute_result",
          "data": {
            "text/plain": [
              "(520, 20)"
            ]
          },
          "metadata": {
            "tags": []
          },
          "execution_count": 52
        }
      ]
    },
    {
      "cell_type": "markdown",
      "metadata": {
        "id": "ydgLuoiCLKZ-"
      },
      "source": [
        "# Reduccion de variables - PCA\n"
      ]
    },
    {
      "cell_type": "code",
      "metadata": {
        "id": "twiRY9G7MAGL"
      },
      "source": [
        "from sklearn import preprocessing \n",
        "scaler = preprocessing.StandardScaler()\n",
        "states = scaler.fit_transform(df_iq)"
      ],
      "execution_count": 53,
      "outputs": []
    },
    {
      "cell_type": "code",
      "metadata": {
        "id": "g3CJobWbBCQH",
        "outputId": "b2df847a-2213-4072-a27f-682085bcf62c",
        "colab": {
          "base_uri": "https://localhost:8080/",
          "height": 136
        }
      },
      "source": [
        "#2. PCA Estimation\n",
        "from sklearn.decomposition import PCA\n",
        "estimator = PCA (n_components = 5)\n",
        "X_pca = estimator.fit_transform(states)\n",
        "X_pca"
      ],
      "execution_count": 54,
      "outputs": [
        {
          "output_type": "execute_result",
          "data": {
            "text/plain": [
              "array([[-0.04795618,  2.0236077 ,  0.28868377, -1.41750102, -0.04523868],\n",
              "       [ 0.08505339,  1.24785845, -0.41819805,  0.19605482,  0.85401622],\n",
              "       [-1.90353353,  2.12901291,  1.11470626, -0.47925945,  1.14840993],\n",
              "       ...,\n",
              "       [-2.01087522,  3.59553497, -0.60453127, -0.53448032, -0.68243523],\n",
              "       [-1.38384894,  2.53529024, -2.1608685 , -0.68280413, -0.51614619],\n",
              "       [ 0.56105791, -0.4560784 , -0.3202558 , -0.29514094, -0.67908544]])"
            ]
          },
          "metadata": {
            "tags": []
          },
          "execution_count": 54
        }
      ]
    },
    {
      "cell_type": "code",
      "metadata": {
        "id": "hEywLj0CBHvS",
        "outputId": "cb282f12-c7e0-46d3-9e19-f491e2e2548e",
        "colab": {
          "base_uri": "https://localhost:8080/",
          "height": 51
        }
      },
      "source": [
        "#Con dos componentes se explica el 0,9999% de la varianza, por lo que no se pierde informacion\n",
        "print(estimator.explained_variance_ratio_) \n",
        "print(sum(estimator.explained_variance_ratio_))"
      ],
      "execution_count": 55,
      "outputs": [
        {
          "output_type": "stream",
          "text": [
            "[0.3117756  0.23832799 0.14465652 0.07323066 0.04877896]\n",
            "0.8167697234603115\n"
          ],
          "name": "stdout"
        }
      ]
    },
    {
      "cell_type": "markdown",
      "metadata": {
        "id": "BwMNxPGAB0N9"
      },
      "source": [
        "# Clustering jerarquico"
      ]
    },
    {
      "cell_type": "code",
      "metadata": {
        "id": "6w3GXNesB73y",
        "outputId": "b2b2d8ad-e020-45ab-bd70-168d0a796119",
        "colab": {
          "base_uri": "https://localhost:8080/",
          "height": 299
        }
      },
      "source": [
        "# 3.2. Building the Dendrogram\t\n",
        "from scipy import cluster\n",
        "clusters = cluster.hierarchy.linkage(iq_norm, method = 'ward')\n",
        "# http://docs.scipy.org/doc/scipy-0.14.0/reference/generated/scipy.cluster.hierarchy.dendrogram.html\n",
        "cluster.hierarchy.dendrogram(clusters, labels = df_iq.index)\n",
        "\n",
        "# 3.2.1 Visualization\n",
        "f = plt.figure()\n",
        "plt.show()\n",
        "#f.savefig( \"test.png\")\n",
        "#files.download('test.png')\n"
      ],
      "execution_count": 56,
      "outputs": [
        {
          "output_type": "display_data",
          "data": {
            "image/png": "[encoded data removed]",
            "text/plain": [
              "<Figure size 432x288 with 1 Axes>"
            ]
          },
          "metadata": {
            "tags": [],
            "needs_background": "light"
          }
        },
        {
          "output_type": "display_data",
          "data": {
            "text/plain": [
              "<Figure size 432x288 with 0 Axes>"
            ]
          },
          "metadata": {
            "tags": []
          }
        }
      ]
    },
    {
      "cell_type": "code",
      "metadata": {
        "id": "KatDEKfCCqoO",
        "outputId": "85a42ee4-0745-49c1-ac17-7556a3384d31",
        "colab": {
          "base_uri": "https://localhost:8080/",
          "height": 425
        }
      },
      "source": [
        "cut = 5\n",
        "labels = cluster.hierarchy.fcluster(clusters, cut , criterion = 'distance')\n",
        "\n",
        "labels"
      ],
      "execution_count": 93,
      "outputs": [
        {
          "output_type": "execute_result",
          "data": {
            "text/plain": [
              "array([4, 4, 4, 1, 4, 1, 2, 1, 2, 2, 2, 2, 1, 1, 2, 2, 2, 2, 2, 2, 2, 2,\n",
              "       2, 2, 2, 2, 3, 2, 5, 4, 4, 1, 4, 4, 4, 5, 4, 5, 4, 4, 3, 3, 5, 5,\n",
              "       4, 3, 4, 4, 1, 4, 1, 1, 1, 4, 1, 4, 1, 2, 2, 2, 2, 2, 2, 2, 2, 2,\n",
              "       2, 2, 5, 5, 5, 5, 3, 3, 5, 5, 5, 3, 3, 3, 2, 5, 4, 4, 5, 4, 4, 5,\n",
              "       5, 3, 5, 5, 4, 5, 3, 4, 5, 4, 4, 4, 4, 3, 1, 1, 1, 1, 1, 1, 1, 1,\n",
              "       2, 1, 2, 2, 2, 2, 2, 2, 2, 5, 4, 3, 3, 5, 5, 5, 3, 5, 5, 5, 2, 3,\n",
              "       4, 5, 2, 4, 4, 5, 5, 4, 4, 5, 5, 5, 5, 4, 3, 3, 5, 4, 4, 5, 4, 5,\n",
              "       4, 4, 1, 1, 1, 1, 1, 1, 1, 1, 1, 2, 2, 1, 3, 5, 5, 3, 3, 2, 3, 2,\n",
              "       5, 3, 3, 5, 5, 4, 4, 5, 3, 2, 2, 2, 3, 5, 5, 5, 5, 3, 5, 5, 3, 5,\n",
              "       5, 4, 5, 4, 5, 4, 4, 4, 4, 1, 4, 4, 1, 4, 4, 1, 1, 1, 1, 3, 5, 5,\n",
              "       2, 5, 4, 3, 5, 5, 3, 3, 5, 5, 5, 3, 5, 3, 3, 5, 3, 3, 3, 5, 4, 5,\n",
              "       5, 3, 5, 5, 5, 3, 3, 4, 4, 5, 4, 5, 4, 2, 2, 4, 5, 1, 4, 1, 1, 1,\n",
              "       1, 1, 2, 2, 2, 1, 2, 5, 1, 2, 2, 2, 2, 3, 5, 3, 3, 3, 3, 3, 5, 5,\n",
              "       5, 2, 5, 5, 4, 3, 4, 3, 5, 5, 3, 5, 5, 5, 5, 3, 3, 4, 5, 4, 1, 1,\n",
              "       4, 5, 1, 1, 1, 4, 1, 2, 1, 1, 1, 5, 5, 2, 1, 1, 2, 3, 2, 5, 3, 3,\n",
              "       3, 3, 5, 3, 5, 3, 3, 3, 5, 4, 5, 5, 5, 2, 2, 2, 2, 5, 5, 5, 5, 5,\n",
              "       5, 4, 5, 5, 4, 1, 3, 1, 4, 4, 4, 4, 1, 1, 4, 1, 1, 1, 1, 2, 2, 4,\n",
              "       2, 2, 2, 3, 3, 5, 3, 3, 3, 5, 4, 5, 3, 3, 5, 4, 2, 3, 5, 5, 3, 2,\n",
              "       4, 5, 3, 5, 5, 5, 3, 5, 3, 4, 3, 5, 4, 1, 4, 4, 4, 1, 5, 4, 1, 1,\n",
              "       4, 4, 3, 4, 3, 2, 2, 2, 4, 4, 3, 2, 2, 5, 3, 5, 3, 3, 5, 3, 5, 3,\n",
              "       5, 5, 5, 4, 4, 4, 5, 5, 4, 5, 5, 3, 5, 5, 5, 5, 5, 5, 5, 5, 5, 5,\n",
              "       5, 4, 4, 1, 4, 5, 4, 4, 4, 4, 1, 3, 2, 2, 5, 3, 2, 2, 5, 5, 3, 2,\n",
              "       3, 3, 3, 3, 3, 3, 3, 5, 5, 5, 5, 2, 5, 3, 5, 5, 5, 3, 5, 5, 3, 5,\n",
              "       5, 5, 5, 5, 3, 3, 3, 4, 1, 3, 5, 4, 4, 5], dtype=int32)"
            ]
          },
          "metadata": {
            "tags": []
          },
          "execution_count": 93
        }
      ]
    },
    {
      "cell_type": "markdown",
      "metadata": {
        "id": "0FT5MsB4C9W3"
      },
      "source": [
        "Calculo el coeficiente de silhouette, cuanto mas cerca de 1 indica que los agrupamientos son mejores"
      ]
    },
    {
      "cell_type": "code",
      "metadata": {
        "id": "1nhRPITADBXv",
        "outputId": "0d6d1927-f59e-45f1-e154-ca0e90849215",
        "colab": {
          "base_uri": "https://localhost:8080/",
          "height": 51
        }
      },
      "source": [
        "from sklearn import metrics\n",
        "n_clusters_ = len(set(labels)) \n",
        "print('Estimated number of clusters: %d' % n_clusters_)\n",
        "print(\"Silhouette Coefficient: %0.3f\"\n",
        "      % metrics.silhouette_score(iq_norm, labels))"
      ],
      "execution_count": 91,
      "outputs": [
        {
          "output_type": "stream",
          "text": [
            "Estimated number of clusters: 2\n",
            "Silhouette Coefficient: 0.238\n"
          ],
          "name": "stdout"
        }
      ]
    },
    {
      "cell_type": "markdown",
      "metadata": {
        "id": "ag8oruDaEA0n"
      },
      "source": [
        "Visualizo los grupos"
      ]
    },
    {
      "cell_type": "code",
      "metadata": {
        "id": "OZ6bFSU4D56b",
        "outputId": "c9ac9d76-dad9-4fd6-eec7-2f554842b610",
        "colab": {
          "base_uri": "https://localhost:8080/",
          "height": 267
        }
      },
      "source": [
        "#plotting orginal points with color related to label\n",
        "fig, ax = plt.subplots()\n",
        "plt.scatter(X_pca[:,0], X_pca[:,1], c=labels,s=50)\n",
        "\n",
        "plt.grid()\n",
        "plt.show()"
      ],
      "execution_count": 62,
      "outputs": [
        {
          "output_type": "display_data",
          "data": {
            "image/png": "[encoded data removed]",
            "text/plain": [
              "<Figure size 432x288 with 1 Axes>"
            ]
          },
          "metadata": {
            "tags": [],
            "needs_background": "light"
          }
        }
      ]
    },
    {
      "cell_type": "markdown",
      "metadata": {
        "id": "4w8nPp63ETgD"
      },
      "source": [
        "# K-Means"
      ]
    },
    {
      "cell_type": "markdown",
      "metadata": {
        "id": "2sj8dhqoH-Ve"
      },
      "source": [
        "Para utilizar K-Means debemos especificar el número de grupos que queremos encontrar. A este número de grupos se le denomina K.\n",
        "\n",
        "El algoritmo K-Means sigue los siguientes pasos:\n",
        "\n",
        "-Inicialización: se elige la localización de los centroides de los K grupos aleatoriamente\n",
        "-Asignación: se asigna cada dato al centroide más cercano\n",
        "-Actualización: se actualiza la posición del centroide a la media aritmética de las posiciones de los datos asignados al grupo"
      ]
    },
    {
      "cell_type": "code",
      "metadata": {
        "id": "wpNKz70qEYsg"
      },
      "source": [
        "# parameters\n",
        "init = 'random' # initialization method \n",
        "\n",
        "# to run 10 times with different random centroids \n",
        "# to choose the final model as the one with the lowest SSE\n",
        "iterations = 10\n",
        "\n",
        "# maximum number of iterations for each single run\n",
        "max_iter = 300 \n",
        "\n",
        "# controls the tolerance with regard to the changes in the \n",
        "# within-cluster sum-squared-error to declare convergence\n",
        "\n",
        "tol = 1e-04 \n",
        "\n",
        " # random seed\n",
        "random_state = 0"
      ],
      "execution_count": 48,
      "outputs": []
    },
    {
      "cell_type": "code",
      "metadata": {
        "id": "3F8vRizYHAN6"
      },
      "source": [
        "from sklearn.cluster import KMeans\n",
        "from sklearn import metrics\n",
        "\n",
        "distortions = []\n",
        "silhouettes = []\n",
        "\n",
        "for i in range(2, 11):\n",
        "    km = KMeans(i, init, n_init = iterations ,max_iter= max_iter, tol = tol,random_state = random_state)\n",
        "    labels = km.fit_predict(X_pca)\n",
        "    distortions.append(km.inertia_)\n",
        "    silhouettes.append(metrics.silhouette_score(X_pca, labels))"
      ],
      "execution_count": 63,
      "outputs": []
    },
    {
      "cell_type": "markdown",
      "metadata": {
        "id": "QBsSK0yAIWIz"
      },
      "source": [
        "Según el método del codo el k óptimo es 4, donde el valor de la suma de las distancias se reduce"
      ]
    },
    {
      "cell_type": "code",
      "metadata": {
        "id": "nhki89k_HMCt",
        "outputId": "2bd46718-c57a-4f30-afa4-db909818aace",
        "colab": {
          "base_uri": "https://localhost:8080/",
          "height": 279
        }
      },
      "source": [
        "plt.plot(range(2,11), distortions, marker='o')\n",
        "plt.xlabel('K')\n",
        "plt.ylabel('Distortion')\n",
        "plt.show()"
      ],
      "execution_count": 64,
      "outputs": [
        {
          "output_type": "display_data",
          "data": {
            "image/png": "[encoded data removed]",
            "text/plain": [
              "<Figure size 432x288 with 1 Axes>"
            ]
          },
          "metadata": {
            "tags": [],
            "needs_background": "light"
          }
        }
      ]
    },
    {
      "cell_type": "markdown",
      "metadata": {
        "id": "izjfb1ryHjh1"
      },
      "source": [
        "Segun el índice de silhouette el numero optimo de k es 3, ya que es cuando es mayor, mas cerca de 1"
      ]
    },
    {
      "cell_type": "code",
      "metadata": {
        "id": "PQ3VyfaTHWLi",
        "outputId": "7398ca09-f738-4036-ffea-796f74e1f681",
        "colab": {
          "base_uri": "https://localhost:8080/",
          "height": 279
        }
      },
      "source": [
        "plt.plot(range(2,11), silhouettes , marker='o')\n",
        "plt.xlabel('K')\n",
        "plt.ylabel('Silohouette')\n",
        "plt.show()"
      ],
      "execution_count": 65,
      "outputs": [
        {
          "output_type": "display_data",
          "data": {
            "image/png": "[encoded data removed]",
            "text/plain": [
              "<Figure size 432x288 with 1 Axes>"
            ]
          },
          "metadata": {
            "tags": [],
            "needs_background": "light"
          }
        }
      ]
    },
    {
      "cell_type": "markdown",
      "metadata": {
        "id": "cIq5V_0SjOFl"
      },
      "source": [
        "Ejecución del algoritmo"
      ]
    },
    {
      "cell_type": "code",
      "metadata": {
        "id": "XKZJQJHHjNgz"
      },
      "source": [
        "k = 4\n",
        "\n",
        "km = KMeans(k, init, n_init = iterations ,\n",
        "            max_iter= max_iter, tol = tol, random_state = random_state)\n",
        "\n",
        "y_km = km.fit_predict(X_pca)"
      ],
      "execution_count": 99,
      "outputs": []
    },
    {
      "cell_type": "markdown",
      "metadata": {
        "id": "sxFcwxBbjikl"
      },
      "source": [
        "calculo de los valores finales de las métricas del algoritmo"
      ]
    },
    {
      "cell_type": "code",
      "metadata": {
        "id": "V2HMu_AgjUg0",
        "outputId": "c57a8fd7-0df0-4c2e-a85a-ea83ceeaca41",
        "colab": {
          "base_uri": "https://localhost:8080/",
          "height": 51
        }
      },
      "source": [
        "from sklearn import metrics\n",
        "print(\"Silhouette Coefficient: %0.3f\"\n",
        "      % metrics.silhouette_score(iq_norm, y_km))\n",
        "      \n",
        "print('Distortion: %.2f' % km.inertia_)"
      ],
      "execution_count": 100,
      "outputs": [
        {
          "output_type": "stream",
          "text": [
            "Silhouette Coefficient: 0.159\n",
            "Distortion: 4401.98\n"
          ],
          "name": "stdout"
        }
      ]
    },
    {
      "cell_type": "markdown",
      "metadata": {
        "id": "wg0Lkv10j9Ec"
      },
      "source": [
        "Datos etiquetados"
      ]
    },
    {
      "cell_type": "code",
      "metadata": {
        "id": "ytWo8ryxjoIa",
        "outputId": "3c130297-b6f6-47ca-9a4b-363b06dde9d1",
        "colab": {
          "base_uri": "https://localhost:8080/",
          "height": 425
        }
      },
      "source": [
        "km.labels_"
      ],
      "execution_count": 101,
      "outputs": [
        {
          "output_type": "execute_result",
          "data": {
            "text/plain": [
              "array([1, 1, 2, 1, 1, 1, 0, 1, 0, 0, 0, 0, 0, 0, 0, 0, 0, 0, 0, 0, 0, 0,\n",
              "       0, 0, 0, 0, 2, 0, 2, 1, 1, 1, 2, 1, 2, 2, 2, 0, 2, 2, 3, 3, 3, 2,\n",
              "       2, 2, 3, 3, 1, 1, 1, 1, 1, 1, 1, 1, 1, 0, 0, 0, 0, 0, 0, 0, 0, 0,\n",
              "       0, 0, 3, 3, 3, 3, 3, 3, 3, 3, 2, 3, 3, 0, 0, 0, 2, 1, 3, 2, 2, 3,\n",
              "       3, 2, 2, 2, 2, 2, 2, 2, 2, 2, 2, 2, 1, 3, 1, 1, 1, 1, 1, 1, 1, 1,\n",
              "       0, 1, 0, 0, 0, 0, 0, 0, 3, 0, 2, 3, 3, 2, 2, 3, 3, 2, 2, 2, 3, 3,\n",
              "       2, 3, 0, 2, 2, 2, 3, 2, 2, 2, 3, 3, 2, 2, 3, 2, 2, 2, 2, 2, 2, 2,\n",
              "       1, 2, 1, 1, 1, 1, 1, 0, 1, 0, 0, 1, 0, 1, 3, 3, 3, 3, 3, 0, 3, 0,\n",
              "       3, 3, 3, 3, 2, 2, 2, 2, 3, 0, 0, 0, 3, 3, 3, 3, 2, 3, 2, 2, 3, 2,\n",
              "       3, 2, 2, 2, 2, 2, 2, 2, 1, 1, 1, 1, 1, 1, 1, 1, 1, 1, 1, 3, 2, 3,\n",
              "       0, 3, 1, 3, 0, 3, 3, 2, 3, 2, 3, 3, 3, 3, 3, 3, 3, 3, 3, 3, 2, 2,\n",
              "       3, 3, 2, 2, 2, 3, 3, 2, 2, 2, 2, 3, 2, 3, 3, 2, 2, 1, 1, 0, 1, 1,\n",
              "       1, 1, 0, 0, 0, 0, 0, 0, 1, 0, 0, 0, 0, 3, 3, 3, 3, 3, 3, 3, 3, 2,\n",
              "       2, 0, 3, 2, 2, 3, 2, 3, 0, 2, 3, 2, 2, 2, 2, 3, 3, 1, 2, 2, 1, 1,\n",
              "       1, 2, 2, 1, 1, 1, 1, 0, 1, 1, 0, 3, 0, 3, 0, 0, 0, 3, 0, 3, 3, 3,\n",
              "       3, 3, 2, 3, 2, 3, 3, 3, 2, 2, 2, 2, 2, 3, 0, 0, 0, 2, 2, 2, 2, 2,\n",
              "       2, 2, 2, 2, 2, 1, 3, 1, 1, 1, 2, 1, 1, 1, 1, 1, 1, 1, 1, 0, 0, 2,\n",
              "       0, 3, 0, 3, 3, 3, 3, 3, 3, 2, 2, 2, 3, 3, 2, 2, 0, 2, 2, 2, 3, 0,\n",
              "       2, 2, 2, 2, 2, 2, 2, 2, 3, 2, 2, 2, 1, 1, 2, 2, 1, 1, 2, 1, 1, 1,\n",
              "       1, 1, 3, 1, 3, 0, 0, 0, 3, 3, 3, 0, 0, 3, 3, 3, 3, 3, 3, 2, 2, 3,\n",
              "       3, 0, 0, 2, 2, 2, 2, 2, 2, 2, 2, 3, 2, 2, 2, 2, 2, 2, 2, 2, 3, 3,\n",
              "       3, 2, 2, 1, 1, 2, 2, 3, 2, 1, 1, 0, 3, 0, 3, 3, 0, 0, 0, 3, 3, 0,\n",
              "       3, 3, 3, 3, 0, 3, 3, 3, 3, 2, 2, 0, 2, 3, 3, 2, 2, 3, 3, 2, 3, 3,\n",
              "       3, 3, 3, 2, 3, 3, 2, 2, 1, 3, 2, 1, 1, 3], dtype=int32)"
            ]
          },
          "metadata": {
            "tags": []
          },
          "execution_count": 101
        }
      ]
    },
    {
      "cell_type": "code",
      "metadata": {
        "id": "3fyt8AkHjsrd",
        "outputId": "42a4e23f-8c07-44da-ea9e-c27c597e9101",
        "colab": {
          "base_uri": "https://localhost:8080/",
          "height": 267
        }
      },
      "source": [
        "#plotting orginal points with color related to label\n",
        "plt.scatter(X_pca[:,0], X_pca[:,1], c=km.labels_,s=50)\n",
        "# plotting centroids\n",
        "plt.scatter(km.cluster_centers_[:,0], km.cluster_centers_[:,1], c='blue',s=50)\n",
        "# \n",
        "plt.grid()\n",
        "plt.show()"
      ],
      "execution_count": 102,
      "outputs": [
        {
          "output_type": "display_data",
          "data": {
            "image/png": "[encoded data removed]",
            "text/plain": [
              "<Figure size 432x288 with 1 Axes>"
            ]
          },
          "metadata": {
            "tags": [],
            "needs_background": "light"
          }
        }
      ]
    },
    {
      "cell_type": "markdown",
      "metadata": {
        "id": "5uZD3epCS76M"
      },
      "source": [
        "# Dbscan"
      ]
    },
    {
      "cell_type": "markdown",
      "metadata": {
        "id": "Ldl-CvvJTMeQ"
      },
      "source": [
        "Este algoritmo asume que los grupos están definidos en áreas de gran densidad de datos. Las zonas pocos densas separan los grupos"
      ]
    },
    {
      "cell_type": "code",
      "metadata": {
        "id": "_G6GK9vpT4P0"
      },
      "source": [
        "import sklearn.neighbors\n",
        "dist = sklearn.neighbors.DistanceMetric.get_metric('euclidean')\n",
        "matsim = dist.pairwise(iq_norm)"
      ],
      "execution_count": 70,
      "outputs": []
    },
    {
      "cell_type": "markdown",
      "metadata": {
        "id": "_fjXgQFCWBBt"
      },
      "source": [
        "Elegi como minPts 2 porque con 3 me daba 154 outliers y el dataframe es de 520 filas."
      ]
    },
    {
      "cell_type": "code",
      "metadata": {
        "id": "-YI92Q5_TXFW",
        "outputId": "85031049-6848-4e6e-d1e1-1bb6ff165c68",
        "colab": {
          "base_uri": "https://localhost:8080/",
          "height": 265
        }
      },
      "source": [
        "import numpy\n",
        "minPts= 2\n",
        "from sklearn.neighbors import kneighbors_graph\n",
        "A = kneighbors_graph(iq_norm, minPts, include_self=False)\n",
        "Ar = A.toarray()\n",
        "\n",
        "seq = []\n",
        "for i,s in enumerate(iq_norm):\n",
        "    for j in range(len(iq_norm)):\n",
        "        if Ar[i][j] != 0:\n",
        "            seq.append(matsim[i][j])\n",
        "            \n",
        "seq.sort()\n",
        "# establecer intervalo ejes\n",
        "fig = plt.figure()\n",
        "ax = fig.gca()\n",
        "ax.set_xticks(numpy.arange(0, 150, 20))\n",
        "ax.set_yticks(numpy.arange(0, 3, 0.2))\n",
        "\n",
        "plt.plot(seq)\n",
        "\n",
        "\n",
        "plt.show()"
      ],
      "execution_count": 78,
      "outputs": [
        {
          "output_type": "display_data",
          "data": {
            "image/png": "[encoded data removed]",
            "text/plain": [
              "<Figure size 432x288 with 1 Axes>"
            ]
          },
          "metadata": {
            "tags": [],
            "needs_background": "light"
          }
        }
      ]
    },
    {
      "cell_type": "markdown",
      "metadata": {
        "id": "8I5YbAXLUY_b"
      },
      "source": [
        "Ejecuto el algoritmo, voy a probar realizar diferentes clusters desde 0,3 a 0,7 con intervalos de 0,1"
      ]
    },
    {
      "cell_type": "code",
      "metadata": {
        "id": "OePOIKUUUPag",
        "outputId": "49d39b9f-3b0b-4327-9631-8a21b2b7741a",
        "colab": {
          "base_uri": "https://localhost:8080/",
          "height": 102
        }
      },
      "source": [
        "from sklearn.cluster import DBSCAN\n",
        "\n",
        "for eps in numpy.arange(0.20, 0.7, 0.10):\n",
        "  db = DBSCAN(eps, min_samples=minPts).fit(iq_norm)\n",
        "  core_samples_mask = numpy.zeros_like(db.labels_, dtype=bool)\n",
        "  core_samples_mask[db.core_sample_indices_] = True\n",
        "  labels = db.labels_\n",
        "  n_clusters_ = len(set(labels)) - (1 if -1 in labels else 0)\n",
        "  print (eps, n_clusters_)\n",
        "  \n",
        "#labels"
      ],
      "execution_count": 79,
      "outputs": [
        {
          "output_type": "stream",
          "text": [
            "0.2 4\n",
            "0.30000000000000004 33\n",
            "0.4000000000000001 13\n",
            "0.5000000000000001 3\n",
            "0.6000000000000001 1\n"
          ],
          "name": "stdout"
        }
      ]
    },
    {
      "cell_type": "code",
      "metadata": {
        "id": "ImdfJYIZS--f",
        "outputId": "d1a38ab8-d6f8-487d-bebb-2698e561acfb",
        "colab": {
          "base_uri": "https://localhost:8080/",
          "height": 544
        }
      },
      "source": [
        "db = DBSCAN(eps=0.5, min_samples=minPts).fit(iq_norm)\n",
        "labels = db.labels_\n",
        "labels"
      ],
      "execution_count": 80,
      "outputs": [
        {
          "output_type": "execute_result",
          "data": {
            "text/plain": [
              "array([ 0,  0,  0, -1,  0,  0,  0,  0,  0,  0,  1,  0, -1, -1,  0,  0,  0,\n",
              "        0,  0,  0, -1, -1,  0,  0,  0,  0,  0,  0,  0,  0, -1,  0,  0,  0,\n",
              "        0,  0,  0,  0,  0,  0,  0,  0,  0,  0,  0,  0,  0,  0,  0, -1,  0,\n",
              "       -1,  0,  0,  0,  0,  0,  0,  0,  0,  0,  0,  0,  0,  0,  0, -1,  0,\n",
              "        0,  0,  0,  0,  0,  0,  0,  0,  0,  0,  0,  0,  0,  0,  0,  0,  0,\n",
              "        0,  0,  0,  0,  0,  0,  0,  0,  0,  0,  0,  0, -1,  0,  0,  0,  0,\n",
              "        0,  0, -1,  0,  0,  0,  0,  0,  0,  0,  0,  0,  0,  1,  0,  0,  0,\n",
              "        0,  0,  0,  0,  0,  0,  0,  0,  0,  0,  0,  0,  0,  0,  0,  0,  0,\n",
              "        0,  0,  0,  0,  0, -1, -1,  0,  0,  0,  0, -1,  0, -1,  0,  0,  0,\n",
              "        0,  0,  0,  0,  0,  0,  0,  0,  0,  0,  0,  0, -1,  0, -1,  0,  0,\n",
              "        0,  0,  0,  0,  0,  0,  0,  0,  0,  0,  0,  0,  0,  0,  0,  0,  0,\n",
              "        0,  0,  0,  0,  0,  0,  0, -1,  0,  0,  0,  0,  0,  0,  0,  0,  0,\n",
              "        0,  0,  0,  0,  0,  0,  0,  0,  0,  0,  0,  0,  0, -1,  0,  0,  0,\n",
              "        0,  0,  0,  0,  0,  0,  0,  0,  0,  0,  0,  0,  0,  0,  0,  0,  0,\n",
              "        0,  0,  0,  0,  0,  0,  0,  0,  0,  0,  0,  0,  0,  0,  0,  0,  0,\n",
              "        0,  0,  0,  0,  0,  0,  0, -1,  0, -1,  0,  0,  0,  0,  0,  0,  0,\n",
              "        0, -1,  0,  0,  0,  0,  0,  0,  0,  0,  0,  0,  0,  0,  0,  0,  0,\n",
              "        0,  0,  0,  0,  0,  0,  0,  0,  0,  0,  0,  0,  0,  0,  0,  0, -1,\n",
              "       -1,  0,  0,  0,  0,  0,  0,  0,  0,  0,  0,  0,  0,  0,  0,  0,  0,\n",
              "       -1,  0, -1,  0,  0,  0,  0,  0,  0,  0,  0,  0,  0,  0,  0,  0,  0,\n",
              "        0,  0,  0,  0,  0,  0,  0,  0,  0,  0,  0,  0,  0,  0,  0,  0,  0,\n",
              "        0,  0, -1,  0,  0,  0,  0,  0,  0,  0,  0, -1,  0,  0,  0,  0,  0,\n",
              "        0,  0,  0,  0,  0,  0,  0,  0,  0,  0,  0,  0,  0,  0,  0,  0,  0,\n",
              "       -1,  0,  0,  0,  0,  0,  0,  0, -1,  0,  0,  0,  0,  0,  0,  0,  0,\n",
              "        0,  0,  0,  0,  0,  0,  0,  0,  0, -1,  0,  0,  0,  0,  0,  0,  0,\n",
              "        0,  0,  0,  0,  0,  0,  0,  0,  0,  2,  0,  0,  0,  0,  0,  0,  0,\n",
              "        0,  0,  0,  0,  0,  0,  0,  0,  0,  0,  0,  0,  0,  0,  0,  0,  0,\n",
              "        0,  0,  0,  0,  0,  0,  0,  0,  0,  0,  0,  0,  0,  0,  0,  0,  0,\n",
              "        0,  2,  0,  0,  0,  0,  0,  0,  0,  0,  0,  0,  0,  0,  0,  0,  0,\n",
              "        0,  0,  0,  0,  0,  0,  0,  0,  0,  0,  0,  0,  0,  0,  0,  0,  0,\n",
              "        0,  0,  0,  0,  0,  0,  0,  0,  0,  0])"
            ]
          },
          "metadata": {
            "tags": []
          },
          "execution_count": 80
        }
      ]
    },
    {
      "cell_type": "code",
      "metadata": {
        "id": "19MrfAFhU-7n",
        "outputId": "e7d672db-32d0-44fe-9cc6-d872c3f6700e",
        "colab": {
          "base_uri": "https://localhost:8080/",
          "height": 267
        }
      },
      "source": [
        "#plotting orginal points with color related to label\n",
        "plt.scatter(X_pca[:,0], X_pca[:,1], c=labels,s=50)\n",
        "plt.grid()\n",
        "plt.show()"
      ],
      "execution_count": 81,
      "outputs": [
        {
          "output_type": "display_data",
          "data": {
            "image/png": "[encoded data removed]",
            "text/plain": [
              "<Figure size 432x288 with 1 Axes>"
            ]
          },
          "metadata": {
            "tags": [],
            "needs_background": "light"
          }
        }
      ]
    },
    {
      "cell_type": "markdown",
      "metadata": {
        "id": "XgLER--NVJPw"
      },
      "source": [
        "Identifico outliers"
      ]
    },
    {
      "cell_type": "code",
      "metadata": {
        "id": "yV3Xc6_OVGDB",
        "outputId": "0d27b172-b348-4378-bc3a-02a51571a1f9",
        "colab": {
          "base_uri": "https://localhost:8080/",
          "height": 1000
        }
      },
      "source": [
        "df_iq['dbscan_group'] = labels\n",
        "\n",
        "df_iq[df_iq['dbscan_group'] == -1]"
      ],
      "execution_count": 85,
      "outputs": [
        {
          "output_type": "stream",
          "text": [
            "/usr/local/lib/python3.6/dist-packages/ipykernel_launcher.py:1: SettingWithCopyWarning: \n",
            "A value is trying to be set on a copy of a slice from a DataFrame.\n",
            "Try using .loc[row_indexer,col_indexer] = value instead\n",
            "\n",
            "See the caveats in the documentation: https://pandas.pydata.org/pandas-docs/stable/user_guide/indexing.html#returning-a-view-versus-a-copy\n",
            "  \"\"\"Entry point for launching an IPython kernel.\n"
          ],
          "name": "stderr"
        },
        {
          "output_type": "execute_result",
          "data": {
            "text/html": [
              "<div>\n",
              "<style scoped>\n",
              "    .dataframe tbody tr th:only-of-type {\n",
              "        vertical-align: middle;\n",
              "    }\n",
              "\n",
              "    .dataframe tbody tr th {\n",
              "        vertical-align: top;\n",
              "    }\n",
              "\n",
              "    .dataframe thead th {\n",
              "        text-align: right;\n",
              "    }\n",
              "</style>\n",
              "<table border=\"1\" class=\"dataframe\">\n",
              "  <thead>\n",
              "    <tr style=\"text-align: right;\">\n",
              "      <th></th>\n",
              "      <th></th>\n",
              "      <th>ndvi_ne</th>\n",
              "      <th>ndvi_nw</th>\n",
              "      <th>ndvi_se</th>\n",
              "      <th>ndvi_sw</th>\n",
              "      <th>precipitation_amt_mm</th>\n",
              "      <th>reanalysis_air_temp_k</th>\n",
              "      <th>reanalysis_avg_temp_k</th>\n",
              "      <th>reanalysis_dew_point_temp_k</th>\n",
              "      <th>reanalysis_max_air_temp_k</th>\n",
              "      <th>reanalysis_min_air_temp_k</th>\n",
              "      <th>reanalysis_precip_amt_kg_per_m2</th>\n",
              "      <th>reanalysis_relative_humidity_percent</th>\n",
              "      <th>reanalysis_sat_precip_amt_mm</th>\n",
              "      <th>reanalysis_specific_humidity_g_per_kg</th>\n",
              "      <th>reanalysis_tdtr_k</th>\n",
              "      <th>station_avg_temp_c</th>\n",
              "      <th>station_diur_temp_rng_c</th>\n",
              "      <th>station_max_temp_c</th>\n",
              "      <th>station_min_temp_c</th>\n",
              "      <th>station_precip_mm</th>\n",
              "      <th>dbscan_group</th>\n",
              "    </tr>\n",
              "    <tr>\n",
              "      <th>weekofyear</th>\n",
              "      <th>year</th>\n",
              "      <th></th>\n",
              "      <th></th>\n",
              "      <th></th>\n",
              "      <th></th>\n",
              "      <th></th>\n",
              "      <th></th>\n",
              "      <th></th>\n",
              "      <th></th>\n",
              "      <th></th>\n",
              "      <th></th>\n",
              "      <th></th>\n",
              "      <th></th>\n",
              "      <th></th>\n",
              "      <th></th>\n",
              "      <th></th>\n",
              "      <th></th>\n",
              "      <th></th>\n",
              "      <th></th>\n",
              "      <th></th>\n",
              "      <th></th>\n",
              "      <th></th>\n",
              "    </tr>\n",
              "  </thead>\n",
              "  <tbody>\n",
              "    <tr>\n",
              "      <th>29</th>\n",
              "      <th>2000</th>\n",
              "      <td>0.227729</td>\n",
              "      <td>0.145429</td>\n",
              "      <td>0.254200</td>\n",
              "      <td>0.200314</td>\n",
              "      <td>5.60</td>\n",
              "      <td>295.357143</td>\n",
              "      <td>296.228571</td>\n",
              "      <td>292.797143</td>\n",
              "      <td>303.6</td>\n",
              "      <td>288.6</td>\n",
              "      <td>23.96</td>\n",
              "      <td>87.234286</td>\n",
              "      <td>5.60</td>\n",
              "      <td>14.431429</td>\n",
              "      <td>9.114286</td>\n",
              "      <td>25.766667</td>\n",
              "      <td>10.533333</td>\n",
              "      <td>31.5</td>\n",
              "      <td>14.7</td>\n",
              "      <td>30.0</td>\n",
              "      <td>-1</td>\n",
              "    </tr>\n",
              "    <tr>\n",
              "      <th>38</th>\n",
              "      <th>2000</th>\n",
              "      <td>0.348814</td>\n",
              "      <td>0.295717</td>\n",
              "      <td>0.404843</td>\n",
              "      <td>0.242571</td>\n",
              "      <td>97.55</td>\n",
              "      <td>297.435714</td>\n",
              "      <td>298.514286</td>\n",
              "      <td>292.707143</td>\n",
              "      <td>310.2</td>\n",
              "      <td>288.3</td>\n",
              "      <td>3.20</td>\n",
              "      <td>77.487143</td>\n",
              "      <td>97.55</td>\n",
              "      <td>14.338571</td>\n",
              "      <td>11.314286</td>\n",
              "      <td>27.533333</td>\n",
              "      <td>12.566667</td>\n",
              "      <td>36.0</td>\n",
              "      <td>20.5</td>\n",
              "      <td>104.2</td>\n",
              "      <td>-1</td>\n",
              "    </tr>\n",
              "    <tr>\n",
              "      <th>39</th>\n",
              "      <th>2000</th>\n",
              "      <td>0.175686</td>\n",
              "      <td>0.099483</td>\n",
              "      <td>0.225714</td>\n",
              "      <td>0.182786</td>\n",
              "      <td>95.89</td>\n",
              "      <td>299.355714</td>\n",
              "      <td>300.885714</td>\n",
              "      <td>293.217143</td>\n",
              "      <td>310.8</td>\n",
              "      <td>290.0</td>\n",
              "      <td>2.60</td>\n",
              "      <td>71.462857</td>\n",
              "      <td>95.89</td>\n",
              "      <td>14.798571</td>\n",
              "      <td>14.942857</td>\n",
              "      <td>27.150000</td>\n",
              "      <td>12.175000</td>\n",
              "      <td>34.0</td>\n",
              "      <td>20.5</td>\n",
              "      <td>57.9</td>\n",
              "      <td>-1</td>\n",
              "    </tr>\n",
              "    <tr>\n",
              "      <th>46</th>\n",
              "      <th>2000</th>\n",
              "      <td>0.099933</td>\n",
              "      <td>0.035860</td>\n",
              "      <td>0.195486</td>\n",
              "      <td>0.064183</td>\n",
              "      <td>39.25</td>\n",
              "      <td>301.637143</td>\n",
              "      <td>302.614286</td>\n",
              "      <td>294.232857</td>\n",
              "      <td>311.8</td>\n",
              "      <td>294.2</td>\n",
              "      <td>3.60</td>\n",
              "      <td>67.185714</td>\n",
              "      <td>39.25</td>\n",
              "      <td>15.880000</td>\n",
              "      <td>13.371429</td>\n",
              "      <td>29.025000</td>\n",
              "      <td>13.100000</td>\n",
              "      <td>36.4</td>\n",
              "      <td>21.7</td>\n",
              "      <td>0.0</td>\n",
              "      <td>-1</td>\n",
              "    </tr>\n",
              "    <tr>\n",
              "      <th>47</th>\n",
              "      <th>2000</th>\n",
              "      <td>0.169983</td>\n",
              "      <td>0.289300</td>\n",
              "      <td>0.300983</td>\n",
              "      <td>0.170917</td>\n",
              "      <td>55.91</td>\n",
              "      <td>300.872857</td>\n",
              "      <td>301.914286</td>\n",
              "      <td>293.060000</td>\n",
              "      <td>311.1</td>\n",
              "      <td>293.6</td>\n",
              "      <td>11.20</td>\n",
              "      <td>66.042857</td>\n",
              "      <td>55.91</td>\n",
              "      <td>14.768571</td>\n",
              "      <td>13.142857</td>\n",
              "      <td>27.700000</td>\n",
              "      <td>11.350000</td>\n",
              "      <td>36.5</td>\n",
              "      <td>21.5</td>\n",
              "      <td>0.0</td>\n",
              "      <td>-1</td>\n",
              "    </tr>\n",
              "    <tr>\n",
              "      <th>5</th>\n",
              "      <th>2001</th>\n",
              "      <td>0.341500</td>\n",
              "      <td>0.260667</td>\n",
              "      <td>0.329386</td>\n",
              "      <td>0.369071</td>\n",
              "      <td>87.18</td>\n",
              "      <td>295.297143</td>\n",
              "      <td>296.100000</td>\n",
              "      <td>294.411429</td>\n",
              "      <td>302.2</td>\n",
              "      <td>292.2</td>\n",
              "      <td>80.95</td>\n",
              "      <td>95.407143</td>\n",
              "      <td>87.18</td>\n",
              "      <td>15.860000</td>\n",
              "      <td>5.142857</td>\n",
              "      <td>26.433333</td>\n",
              "      <td>9.666667</td>\n",
              "      <td>33.0</td>\n",
              "      <td>20.0</td>\n",
              "      <td>147.8</td>\n",
              "      <td>-1</td>\n",
              "    </tr>\n",
              "    <tr>\n",
              "      <th>24</th>\n",
              "      <th>2001</th>\n",
              "      <td>0.317083</td>\n",
              "      <td>0.298967</td>\n",
              "      <td>0.219871</td>\n",
              "      <td>0.217343</td>\n",
              "      <td>47.13</td>\n",
              "      <td>295.482857</td>\n",
              "      <td>296.435714</td>\n",
              "      <td>294.341429</td>\n",
              "      <td>302.6</td>\n",
              "      <td>291.9</td>\n",
              "      <td>95.06</td>\n",
              "      <td>94.017143</td>\n",
              "      <td>47.13</td>\n",
              "      <td>15.782857</td>\n",
              "      <td>7.271429</td>\n",
              "      <td>26.880000</td>\n",
              "      <td>10.680000</td>\n",
              "      <td>33.4</td>\n",
              "      <td>20.0</td>\n",
              "      <td>37.1</td>\n",
              "      <td>-1</td>\n",
              "    </tr>\n",
              "    <tr>\n",
              "      <th>26</th>\n",
              "      <th>2001</th>\n",
              "      <td>0.192300</td>\n",
              "      <td>0.275286</td>\n",
              "      <td>0.316457</td>\n",
              "      <td>0.325414</td>\n",
              "      <td>1.22</td>\n",
              "      <td>294.845714</td>\n",
              "      <td>296.000000</td>\n",
              "      <td>290.572857</td>\n",
              "      <td>306.1</td>\n",
              "      <td>288.4</td>\n",
              "      <td>1.82</td>\n",
              "      <td>79.322857</td>\n",
              "      <td>1.22</td>\n",
              "      <td>12.464286</td>\n",
              "      <td>12.342857</td>\n",
              "      <td>26.400000</td>\n",
              "      <td>10.050000</td>\n",
              "      <td>32.3</td>\n",
              "      <td>17.1</td>\n",
              "      <td>31.0</td>\n",
              "      <td>-1</td>\n",
              "    </tr>\n",
              "    <tr>\n",
              "      <th>41</th>\n",
              "      <th>2001</th>\n",
              "      <td>0.420286</td>\n",
              "      <td>0.381957</td>\n",
              "      <td>0.443800</td>\n",
              "      <td>0.546017</td>\n",
              "      <td>58.75</td>\n",
              "      <td>299.158571</td>\n",
              "      <td>300.285714</td>\n",
              "      <td>293.812857</td>\n",
              "      <td>312.3</td>\n",
              "      <td>290.8</td>\n",
              "      <td>12.30</td>\n",
              "      <td>74.418571</td>\n",
              "      <td>58.75</td>\n",
              "      <td>15.327143</td>\n",
              "      <td>11.342857</td>\n",
              "      <td>28.525000</td>\n",
              "      <td>12.475000</td>\n",
              "      <td>36.8</td>\n",
              "      <td>21.8</td>\n",
              "      <td>30.9</td>\n",
              "      <td>-1</td>\n",
              "    </tr>\n",
              "    <tr>\n",
              "      <th>20</th>\n",
              "      <th>2002</th>\n",
              "      <td>0.133800</td>\n",
              "      <td>0.109633</td>\n",
              "      <td>0.219614</td>\n",
              "      <td>0.141700</td>\n",
              "      <td>46.79</td>\n",
              "      <td>296.784286</td>\n",
              "      <td>297.585714</td>\n",
              "      <td>296.221429</td>\n",
              "      <td>303.7</td>\n",
              "      <td>293.9</td>\n",
              "      <td>93.40</td>\n",
              "      <td>97.242857</td>\n",
              "      <td>46.79</td>\n",
              "      <td>17.744286</td>\n",
              "      <td>5.085714</td>\n",
              "      <td>26.866667</td>\n",
              "      <td>9.700000</td>\n",
              "      <td>32.3</td>\n",
              "      <td>20.8</td>\n",
              "      <td>543.3</td>\n",
              "      <td>-1</td>\n",
              "    </tr>\n",
              "    <tr>\n",
              "      <th>27</th>\n",
              "      <th>2002</th>\n",
              "      <td>0.101543</td>\n",
              "      <td>0.126600</td>\n",
              "      <td>0.119357</td>\n",
              "      <td>0.076243</td>\n",
              "      <td>3.27</td>\n",
              "      <td>294.635714</td>\n",
              "      <td>294.892857</td>\n",
              "      <td>291.794286</td>\n",
              "      <td>305.1</td>\n",
              "      <td>287.4</td>\n",
              "      <td>6.20</td>\n",
              "      <td>85.565714</td>\n",
              "      <td>3.27</td>\n",
              "      <td>13.454286</td>\n",
              "      <td>8.700000</td>\n",
              "      <td>26.275000</td>\n",
              "      <td>9.500000</td>\n",
              "      <td>32.6</td>\n",
              "      <td>20.7</td>\n",
              "      <td>5.1</td>\n",
              "      <td>-1</td>\n",
              "    </tr>\n",
              "    <tr>\n",
              "      <th>12</th>\n",
              "      <th>2003</th>\n",
              "      <td>0.214214</td>\n",
              "      <td>0.225157</td>\n",
              "      <td>0.219171</td>\n",
              "      <td>0.248500</td>\n",
              "      <td>109.04</td>\n",
              "      <td>297.892857</td>\n",
              "      <td>299.171429</td>\n",
              "      <td>296.632857</td>\n",
              "      <td>308.9</td>\n",
              "      <td>293.4</td>\n",
              "      <td>362.03</td>\n",
              "      <td>93.628571</td>\n",
              "      <td>109.04</td>\n",
              "      <td>18.252857</td>\n",
              "      <td>8.342857</td>\n",
              "      <td>27.600000</td>\n",
              "      <td>9.900000</td>\n",
              "      <td>33.5</td>\n",
              "      <td>22.7</td>\n",
              "      <td>61.9</td>\n",
              "      <td>-1</td>\n",
              "    </tr>\n",
              "    <tr>\n",
              "      <th>13</th>\n",
              "      <th>2003</th>\n",
              "      <td>0.147529</td>\n",
              "      <td>0.269457</td>\n",
              "      <td>0.126857</td>\n",
              "      <td>0.205914</td>\n",
              "      <td>93.61</td>\n",
              "      <td>298.644286</td>\n",
              "      <td>300.392857</td>\n",
              "      <td>296.818571</td>\n",
              "      <td>308.1</td>\n",
              "      <td>294.3</td>\n",
              "      <td>44.50</td>\n",
              "      <td>91.594286</td>\n",
              "      <td>93.61</td>\n",
              "      <td>18.484286</td>\n",
              "      <td>9.471429</td>\n",
              "      <td>30.800000</td>\n",
              "      <td>15.800000</td>\n",
              "      <td>42.2</td>\n",
              "      <td>21.8</td>\n",
              "      <td>75.9</td>\n",
              "      <td>-1</td>\n",
              "    </tr>\n",
              "    <tr>\n",
              "      <th>18</th>\n",
              "      <th>2003</th>\n",
              "      <td>0.435057</td>\n",
              "      <td>0.376914</td>\n",
              "      <td>0.263614</td>\n",
              "      <td>0.334843</td>\n",
              "      <td>65.43</td>\n",
              "      <td>296.691429</td>\n",
              "      <td>297.585714</td>\n",
              "      <td>296.160000</td>\n",
              "      <td>304.5</td>\n",
              "      <td>294.0</td>\n",
              "      <td>247.60</td>\n",
              "      <td>97.277143</td>\n",
              "      <td>65.43</td>\n",
              "      <td>17.688571</td>\n",
              "      <td>5.085714</td>\n",
              "      <td>27.200000</td>\n",
              "      <td>8.333333</td>\n",
              "      <td>32.9</td>\n",
              "      <td>22.7</td>\n",
              "      <td>105.9</td>\n",
              "      <td>-1</td>\n",
              "    </tr>\n",
              "    <tr>\n",
              "      <th>20</th>\n",
              "      <th>2003</th>\n",
              "      <td>0.245429</td>\n",
              "      <td>0.184700</td>\n",
              "      <td>0.261457</td>\n",
              "      <td>0.268886</td>\n",
              "      <td>84.16</td>\n",
              "      <td>294.922857</td>\n",
              "      <td>295.242857</td>\n",
              "      <td>294.567143</td>\n",
              "      <td>301.5</td>\n",
              "      <td>290.1</td>\n",
              "      <td>95.30</td>\n",
              "      <td>98.132857</td>\n",
              "      <td>84.16</td>\n",
              "      <td>16.085714</td>\n",
              "      <td>4.771429</td>\n",
              "      <td>27.000000</td>\n",
              "      <td>8.800000</td>\n",
              "      <td>32.5</td>\n",
              "      <td>22.0</td>\n",
              "      <td>246.2</td>\n",
              "      <td>-1</td>\n",
              "    </tr>\n",
              "    <tr>\n",
              "      <th>36</th>\n",
              "      <th>2003</th>\n",
              "      <td>0.341700</td>\n",
              "      <td>0.286314</td>\n",
              "      <td>0.210186</td>\n",
              "      <td>0.265986</td>\n",
              "      <td>8.84</td>\n",
              "      <td>297.381429</td>\n",
              "      <td>298.442857</td>\n",
              "      <td>290.970000</td>\n",
              "      <td>309.5</td>\n",
              "      <td>289.1</td>\n",
              "      <td>33.50</td>\n",
              "      <td>70.928571</td>\n",
              "      <td>8.84</td>\n",
              "      <td>12.947143</td>\n",
              "      <td>12.771429</td>\n",
              "      <td>26.650000</td>\n",
              "      <td>11.900000</td>\n",
              "      <td>33.9</td>\n",
              "      <td>18.5</td>\n",
              "      <td>0.8</td>\n",
              "      <td>-1</td>\n",
              "    </tr>\n",
              "    <tr>\n",
              "      <th>38</th>\n",
              "      <th>2003</th>\n",
              "      <td>0.364486</td>\n",
              "      <td>0.260986</td>\n",
              "      <td>0.316457</td>\n",
              "      <td>0.385157</td>\n",
              "      <td>55.73</td>\n",
              "      <td>296.948571</td>\n",
              "      <td>297.707143</td>\n",
              "      <td>293.684286</td>\n",
              "      <td>310.6</td>\n",
              "      <td>288.2</td>\n",
              "      <td>115.20</td>\n",
              "      <td>85.030000</td>\n",
              "      <td>55.73</td>\n",
              "      <td>15.311429</td>\n",
              "      <td>10.757143</td>\n",
              "      <td>27.800000</td>\n",
              "      <td>11.600000</td>\n",
              "      <td>35.3</td>\n",
              "      <td>16.8</td>\n",
              "      <td>92.3</td>\n",
              "      <td>-1</td>\n",
              "    </tr>\n",
              "    <tr>\n",
              "      <th>13</th>\n",
              "      <th>2004</th>\n",
              "      <td>0.306283</td>\n",
              "      <td>0.198720</td>\n",
              "      <td>0.029880</td>\n",
              "      <td>0.290150</td>\n",
              "      <td>120.10</td>\n",
              "      <td>297.312857</td>\n",
              "      <td>298.200000</td>\n",
              "      <td>296.607143</td>\n",
              "      <td>303.5</td>\n",
              "      <td>294.0</td>\n",
              "      <td>76.20</td>\n",
              "      <td>96.238571</td>\n",
              "      <td>120.10</td>\n",
              "      <td>18.237143</td>\n",
              "      <td>5.714286</td>\n",
              "      <td>28.650000</td>\n",
              "      <td>9.300000</td>\n",
              "      <td>34.0</td>\n",
              "      <td>23.6</td>\n",
              "      <td>142.6</td>\n",
              "      <td>-1</td>\n",
              "    </tr>\n",
              "    <tr>\n",
              "      <th>36</th>\n",
              "      <th>2004</th>\n",
              "      <td>0.334357</td>\n",
              "      <td>0.372029</td>\n",
              "      <td>0.342014</td>\n",
              "      <td>0.284586</td>\n",
              "      <td>147.32</td>\n",
              "      <td>297.771429</td>\n",
              "      <td>299.378571</td>\n",
              "      <td>294.988571</td>\n",
              "      <td>307.8</td>\n",
              "      <td>291.7</td>\n",
              "      <td>41.89</td>\n",
              "      <td>86.540000</td>\n",
              "      <td>147.32</td>\n",
              "      <td>16.484286</td>\n",
              "      <td>11.128571</td>\n",
              "      <td>27.100000</td>\n",
              "      <td>9.800000</td>\n",
              "      <td>32.0</td>\n",
              "      <td>20.9</td>\n",
              "      <td>195.1</td>\n",
              "      <td>-1</td>\n",
              "    </tr>\n",
              "    <tr>\n",
              "      <th>28</th>\n",
              "      <th>2005</th>\n",
              "      <td>0.386929</td>\n",
              "      <td>0.335057</td>\n",
              "      <td>0.329843</td>\n",
              "      <td>0.441343</td>\n",
              "      <td>109.71</td>\n",
              "      <td>296.988571</td>\n",
              "      <td>297.592857</td>\n",
              "      <td>292.230000</td>\n",
              "      <td>308.2</td>\n",
              "      <td>288.3</td>\n",
              "      <td>8.70</td>\n",
              "      <td>77.372857</td>\n",
              "      <td>109.71</td>\n",
              "      <td>13.928571</td>\n",
              "      <td>11.814286</td>\n",
              "      <td>27.800000</td>\n",
              "      <td>11.133333</td>\n",
              "      <td>34.2</td>\n",
              "      <td>17.6</td>\n",
              "      <td>167.1</td>\n",
              "      <td>-1</td>\n",
              "    </tr>\n",
              "    <tr>\n",
              "      <th>30</th>\n",
              "      <th>2005</th>\n",
              "      <td>0.347486</td>\n",
              "      <td>0.253700</td>\n",
              "      <td>0.276957</td>\n",
              "      <td>0.365314</td>\n",
              "      <td>42.32</td>\n",
              "      <td>296.898571</td>\n",
              "      <td>298.014286</td>\n",
              "      <td>293.750000</td>\n",
              "      <td>306.3</td>\n",
              "      <td>290.1</td>\n",
              "      <td>15.30</td>\n",
              "      <td>84.238571</td>\n",
              "      <td>42.32</td>\n",
              "      <td>15.260000</td>\n",
              "      <td>10.085714</td>\n",
              "      <td>21.400000</td>\n",
              "      <td>5.700000</td>\n",
              "      <td>32.3</td>\n",
              "      <td>18.5</td>\n",
              "      <td>71.1</td>\n",
              "      <td>-1</td>\n",
              "    </tr>\n",
              "    <tr>\n",
              "      <th>39</th>\n",
              "      <th>2005</th>\n",
              "      <td>0.405417</td>\n",
              "      <td>0.428771</td>\n",
              "      <td>0.370600</td>\n",
              "      <td>0.421086</td>\n",
              "      <td>29.80</td>\n",
              "      <td>301.175714</td>\n",
              "      <td>302.928571</td>\n",
              "      <td>293.752857</td>\n",
              "      <td>314.0</td>\n",
              "      <td>294.8</td>\n",
              "      <td>4.20</td>\n",
              "      <td>67.212857</td>\n",
              "      <td>29.80</td>\n",
              "      <td>15.331429</td>\n",
              "      <td>14.828571</td>\n",
              "      <td>28.650000</td>\n",
              "      <td>13.500000</td>\n",
              "      <td>37.1</td>\n",
              "      <td>20.7</td>\n",
              "      <td>38.1</td>\n",
              "      <td>-1</td>\n",
              "    </tr>\n",
              "    <tr>\n",
              "      <th>19</th>\n",
              "      <th>2006</th>\n",
              "      <td>0.286657</td>\n",
              "      <td>0.187157</td>\n",
              "      <td>0.266514</td>\n",
              "      <td>0.287457</td>\n",
              "      <td>127.24</td>\n",
              "      <td>296.184286</td>\n",
              "      <td>297.557143</td>\n",
              "      <td>295.452857</td>\n",
              "      <td>304.3</td>\n",
              "      <td>291.8</td>\n",
              "      <td>70.00</td>\n",
              "      <td>96.098571</td>\n",
              "      <td>127.24</td>\n",
              "      <td>16.977143</td>\n",
              "      <td>6.628571</td>\n",
              "      <td>24.300000</td>\n",
              "      <td>5.200000</td>\n",
              "      <td>32.3</td>\n",
              "      <td>21.7</td>\n",
              "      <td>270.9</td>\n",
              "      <td>-1</td>\n",
              "    </tr>\n",
              "    <tr>\n",
              "      <th>20</th>\n",
              "      <th>2006</th>\n",
              "      <td>0.339286</td>\n",
              "      <td>0.348286</td>\n",
              "      <td>0.315829</td>\n",
              "      <td>0.374571</td>\n",
              "      <td>1.52</td>\n",
              "      <td>296.054286</td>\n",
              "      <td>296.914286</td>\n",
              "      <td>290.088571</td>\n",
              "      <td>305.6</td>\n",
              "      <td>287.2</td>\n",
              "      <td>0.10</td>\n",
              "      <td>72.034286</td>\n",
              "      <td>1.52</td>\n",
              "      <td>12.111429</td>\n",
              "      <td>12.371429</td>\n",
              "      <td>25.200000</td>\n",
              "      <td>11.700000</td>\n",
              "      <td>31.7</td>\n",
              "      <td>19.4</td>\n",
              "      <td>2.0</td>\n",
              "      <td>-1</td>\n",
              "    </tr>\n",
              "    <tr>\n",
              "      <th>37</th>\n",
              "      <th>2006</th>\n",
              "      <td>0.280040</td>\n",
              "      <td>0.236717</td>\n",
              "      <td>0.236183</td>\n",
              "      <td>0.258550</td>\n",
              "      <td>111.87</td>\n",
              "      <td>297.802857</td>\n",
              "      <td>299.164286</td>\n",
              "      <td>293.037143</td>\n",
              "      <td>308.7</td>\n",
              "      <td>291.9</td>\n",
              "      <td>16.40</td>\n",
              "      <td>77.254286</td>\n",
              "      <td>111.87</td>\n",
              "      <td>14.642857</td>\n",
              "      <td>11.328571</td>\n",
              "      <td>28.350000</td>\n",
              "      <td>11.850000</td>\n",
              "      <td>35.0</td>\n",
              "      <td>17.8</td>\n",
              "      <td>0.5</td>\n",
              "      <td>-1</td>\n",
              "    </tr>\n",
              "    <tr>\n",
              "      <th>39</th>\n",
              "      <th>2006</th>\n",
              "      <td>0.465500</td>\n",
              "      <td>0.241543</td>\n",
              "      <td>0.473400</td>\n",
              "      <td>0.493443</td>\n",
              "      <td>134.64</td>\n",
              "      <td>299.381429</td>\n",
              "      <td>300.685714</td>\n",
              "      <td>295.738571</td>\n",
              "      <td>308.6</td>\n",
              "      <td>294.3</td>\n",
              "      <td>44.62</td>\n",
              "      <td>82.845714</td>\n",
              "      <td>134.64</td>\n",
              "      <td>17.254286</td>\n",
              "      <td>11.285714</td>\n",
              "      <td>28.566667</td>\n",
              "      <td>12.400000</td>\n",
              "      <td>35.2</td>\n",
              "      <td>22.0</td>\n",
              "      <td>63.0</td>\n",
              "      <td>-1</td>\n",
              "    </tr>\n",
              "    <tr>\n",
              "      <th>22</th>\n",
              "      <th>2007</th>\n",
              "      <td>0.090057</td>\n",
              "      <td>0.082229</td>\n",
              "      <td>0.111057</td>\n",
              "      <td>0.064743</td>\n",
              "      <td>76.68</td>\n",
              "      <td>296.178571</td>\n",
              "      <td>297.185714</td>\n",
              "      <td>294.038571</td>\n",
              "      <td>306.8</td>\n",
              "      <td>286.9</td>\n",
              "      <td>29.10</td>\n",
              "      <td>89.280000</td>\n",
              "      <td>76.68</td>\n",
              "      <td>15.740000</td>\n",
              "      <td>10.200000</td>\n",
              "      <td>24.700000</td>\n",
              "      <td>10.633333</td>\n",
              "      <td>32.8</td>\n",
              "      <td>17.5</td>\n",
              "      <td>61.8</td>\n",
              "      <td>-1</td>\n",
              "    </tr>\n",
              "    <tr>\n",
              "      <th>31</th>\n",
              "      <th>2007</th>\n",
              "      <td>0.417229</td>\n",
              "      <td>0.369929</td>\n",
              "      <td>0.366971</td>\n",
              "      <td>0.489871</td>\n",
              "      <td>70.88</td>\n",
              "      <td>296.724286</td>\n",
              "      <td>297.935714</td>\n",
              "      <td>293.000000</td>\n",
              "      <td>305.6</td>\n",
              "      <td>290.0</td>\n",
              "      <td>25.50</td>\n",
              "      <td>82.571429</td>\n",
              "      <td>70.88</td>\n",
              "      <td>14.718571</td>\n",
              "      <td>11.500000</td>\n",
              "      <td>24.250000</td>\n",
              "      <td>9.750000</td>\n",
              "      <td>34.0</td>\n",
              "      <td>16.4</td>\n",
              "      <td>55.9</td>\n",
              "      <td>-1</td>\n",
              "    </tr>\n",
              "    <tr>\n",
              "      <th>2</th>\n",
              "      <th>2008</th>\n",
              "      <td>0.444933</td>\n",
              "      <td>0.275850</td>\n",
              "      <td>0.356900</td>\n",
              "      <td>0.469729</td>\n",
              "      <td>71.84</td>\n",
              "      <td>296.095714</td>\n",
              "      <td>296.535714</td>\n",
              "      <td>295.200000</td>\n",
              "      <td>302.1</td>\n",
              "      <td>293.3</td>\n",
              "      <td>62.61</td>\n",
              "      <td>95.280000</td>\n",
              "      <td>71.84</td>\n",
              "      <td>16.681429</td>\n",
              "      <td>5.100000</td>\n",
              "      <td>25.800000</td>\n",
              "      <td>6.300000</td>\n",
              "      <td>31.4</td>\n",
              "      <td>22.6</td>\n",
              "      <td>104.4</td>\n",
              "      <td>-1</td>\n",
              "    </tr>\n",
              "    <tr>\n",
              "      <th>10</th>\n",
              "      <th>2008</th>\n",
              "      <td>0.169743</td>\n",
              "      <td>0.138667</td>\n",
              "      <td>0.170057</td>\n",
              "      <td>0.200843</td>\n",
              "      <td>210.83</td>\n",
              "      <td>297.754286</td>\n",
              "      <td>299.335714</td>\n",
              "      <td>295.520000</td>\n",
              "      <td>307.9</td>\n",
              "      <td>293.3</td>\n",
              "      <td>39.10</td>\n",
              "      <td>88.972857</td>\n",
              "      <td>210.83</td>\n",
              "      <td>17.064286</td>\n",
              "      <td>8.957143</td>\n",
              "      <td>27.180000</td>\n",
              "      <td>8.880000</td>\n",
              "      <td>33.3</td>\n",
              "      <td>21.9</td>\n",
              "      <td>119.6</td>\n",
              "      <td>-1</td>\n",
              "    </tr>\n",
              "    <tr>\n",
              "      <th>28</th>\n",
              "      <th>2008</th>\n",
              "      <td>0.153850</td>\n",
              "      <td>0.149586</td>\n",
              "      <td>0.329443</td>\n",
              "      <td>0.132886</td>\n",
              "      <td>0.00</td>\n",
              "      <td>296.545714</td>\n",
              "      <td>297.478571</td>\n",
              "      <td>293.594286</td>\n",
              "      <td>305.9</td>\n",
              "      <td>290.5</td>\n",
              "      <td>7.47</td>\n",
              "      <td>85.655714</td>\n",
              "      <td>0.00</td>\n",
              "      <td>15.080000</td>\n",
              "      <td>9.271429</td>\n",
              "      <td>26.900000</td>\n",
              "      <td>7.550000</td>\n",
              "      <td>31.1</td>\n",
              "      <td>21.0</td>\n",
              "      <td>0.0</td>\n",
              "      <td>-1</td>\n",
              "    </tr>\n",
              "  </tbody>\n",
              "</table>\n",
              "</div>"
            ],
            "text/plain": [
              "                  ndvi_ne   ndvi_nw  ...  station_precip_mm  dbscan_group\n",
              "weekofyear year                      ...                                 \n",
              "29         2000  0.227729  0.145429  ...               30.0            -1\n",
              "38         2000  0.348814  0.295717  ...              104.2            -1\n",
              "39         2000  0.175686  0.099483  ...               57.9            -1\n",
              "46         2000  0.099933  0.035860  ...                0.0            -1\n",
              "47         2000  0.169983  0.289300  ...                0.0            -1\n",
              "5          2001  0.341500  0.260667  ...              147.8            -1\n",
              "24         2001  0.317083  0.298967  ...               37.1            -1\n",
              "26         2001  0.192300  0.275286  ...               31.0            -1\n",
              "41         2001  0.420286  0.381957  ...               30.9            -1\n",
              "20         2002  0.133800  0.109633  ...              543.3            -1\n",
              "27         2002  0.101543  0.126600  ...                5.1            -1\n",
              "12         2003  0.214214  0.225157  ...               61.9            -1\n",
              "13         2003  0.147529  0.269457  ...               75.9            -1\n",
              "18         2003  0.435057  0.376914  ...              105.9            -1\n",
              "20         2003  0.245429  0.184700  ...              246.2            -1\n",
              "36         2003  0.341700  0.286314  ...                0.8            -1\n",
              "38         2003  0.364486  0.260986  ...               92.3            -1\n",
              "13         2004  0.306283  0.198720  ...              142.6            -1\n",
              "36         2004  0.334357  0.372029  ...              195.1            -1\n",
              "28         2005  0.386929  0.335057  ...              167.1            -1\n",
              "30         2005  0.347486  0.253700  ...               71.1            -1\n",
              "39         2005  0.405417  0.428771  ...               38.1            -1\n",
              "19         2006  0.286657  0.187157  ...              270.9            -1\n",
              "20         2006  0.339286  0.348286  ...                2.0            -1\n",
              "37         2006  0.280040  0.236717  ...                0.5            -1\n",
              "39         2006  0.465500  0.241543  ...               63.0            -1\n",
              "22         2007  0.090057  0.082229  ...               61.8            -1\n",
              "31         2007  0.417229  0.369929  ...               55.9            -1\n",
              "2          2008  0.444933  0.275850  ...              104.4            -1\n",
              "10         2008  0.169743  0.138667  ...              119.6            -1\n",
              "28         2008  0.153850  0.149586  ...                0.0            -1\n",
              "\n",
              "[31 rows x 21 columns]"
            ]
          },
          "metadata": {
            "tags": []
          },
          "execution_count": 85
        }
      ]
    },
    {
      "cell_type": "markdown",
      "metadata": {
        "id": "WWTAzTM3ayHv"
      },
      "source": [
        "Creo un nuevo dataframe sin outliers"
      ]
    },
    {
      "cell_type": "code",
      "metadata": {
        "id": "-IcSM_lxagAL"
      },
      "source": [
        "df_sinout=df_iq[df_iq['dbscan_group'] != -1]"
      ],
      "execution_count": 88,
      "outputs": []
    },
    {
      "cell_type": "code",
      "metadata": {
        "id": "_tbVgPUhaCL8",
        "outputId": "e379dbc5-0b9d-4d68-d8c4-db6fe044ef3d",
        "colab": {
          "base_uri": "https://localhost:8080/",
          "height": 34
        }
      },
      "source": [
        "df_sinout.shape"
      ],
      "execution_count": 89,
      "outputs": [
        {
          "output_type": "execute_result",
          "data": {
            "text/plain": [
              "(489, 21)"
            ]
          },
          "metadata": {
            "tags": []
          },
          "execution_count": 89
        }
      ]
    },
    {
      "cell_type": "markdown",
      "metadata": {
        "id": "Hd-fBBg2XSa0"
      },
      "source": [
        "# Expectation maximization"
      ]
    },
    {
      "cell_type": "code",
      "metadata": {
        "id": "TuRY0wZGZWAB",
        "outputId": "e64fa5cc-4ca9-47c2-d9d7-5344545455fa",
        "colab": {
          "base_uri": "https://localhost:8080/",
          "height": 34
        }
      },
      "source": [
        "from sklearn.mixture import GaussianMixture\n",
        "\n",
        "lowest_bic = numpy.infty\n",
        "bic = []\n",
        "best_cv = 'full'\n",
        "best_k = 3\n",
        "cv_types = ['spherical', 'tied', 'diag', 'full']\n",
        "n_components_range = range(1, 7)\n",
        "for cv_type in cv_types:\n",
        "    for k in range(1, 7):\n",
        "        gmm = GaussianMixture(n_components=k, covariance_type=cv_type, init_params='random')\n",
        "        gmm.fit(X_pca)\n",
        "        bic.append(gmm.bic(X_pca))\n",
        "        if bic[-1] < lowest_bic:\n",
        "            lowest_bic = bic[-1]\n",
        "            best_cv = cv_type\n",
        "            best_k = k\n",
        "            \n",
        "print (\"Mejor valor K\", best_k, \"Mejor tipo de Covarianza\", best_cv)"
      ],
      "execution_count": 83,
      "outputs": [
        {
          "output_type": "stream",
          "text": [
            "Mejor valor K 2 Mejor tipo de Covarianza diag\n"
          ],
          "name": "stdout"
        }
      ]
    },
    {
      "cell_type": "code",
      "metadata": {
        "id": "fzKDnkgdXRhk",
        "outputId": "025db356-6754-4d96-a560-4f6a4219480d",
        "colab": {
          "base_uri": "https://localhost:8080/",
          "height": 221
        }
      },
      "source": [
        "# Plot the BIC scores\n",
        "color_iter = itertools.cycle(['navy', 'turquoise', 'cornflowerblue',\n",
        "                              'darkorange'])\n",
        "bars = []\n",
        "plt.figure(figsize=(18, 6))\n",
        "spl = plt.subplot(2, 1, 1)\n",
        "for i, (cv_type, color) in enumerate(zip(cv_types, color_iter)):\n",
        "    xpos = numpy.array(n_components_range) + .2 * (i - 2)\n",
        "    bars.append(plt.bar(xpos, bic[i * len(n_components_range):\n",
        "                                  (i + 1) * len(n_components_range)],\n",
        "                        width=.2, color=color))\n",
        "plt.xticks(n_components_range)\n",
        "plt.ylim([min(bic) * 1.01 - .01 * max(bic), max(bic)])\n",
        "plt.title('BIC score per model')\n",
        "xpos = numpy.mod(numpy.argmin(bic), len(n_components_range)) + .65 +\\\n",
        "    .2 * numpy.floor(numpy.argmin(bic) / len(n_components_range))\n",
        "plt.text(xpos, min(bic) * 0.97 + .03 * max(bic), '*', fontsize=14)\n",
        "spl.set_xlabel('Número de componentes')\n",
        "spl.legend([b[0] for b in bars], cv_types)"
      ],
      "execution_count": 84,
      "outputs": [
        {
          "output_type": "execute_result",
          "data": {
            "text/plain": [
              "<matplotlib.legend.Legend at 0x7f971b9d4eb8>"
            ]
          },
          "metadata": {
            "tags": []
          },
          "execution_count": 84
        },
        {
          "output_type": "display_data",
          "data": {
            "image/png": "[encoded data removed]",
            "text/plain": [
              "<Figure size 1296x432 with 1 Axes>"
            ]
          },
          "metadata": {
            "tags": [],
            "needs_background": "light"
          }
        }
      ]
    }
  ]
}