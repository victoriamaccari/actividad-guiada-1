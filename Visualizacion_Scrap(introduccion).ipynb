{
  "nbformat": 4,
  "nbformat_minor": 0,
  "metadata": {
    "colab": {
      "name": "Visualizacion - Scrap(introduccion).ipynb",
      "provenance": [],
      "collapsed_sections": [],
      "include_colab_link": true
    },
    "kernelspec": {
      "name": "python3",
      "display_name": "Python 3"
    }
  },
  "cells": [
    {
      "cell_type": "markdown",
      "metadata": {
        "id": "view-in-github",
        "colab_type": "text"
      },
      "source": [
        "<a href=\"https://colab.research.google.com/github/victoriamaccari/actividad-guiada-1/blob/master/Visualizacion_Scrap(introduccion).ipynb\" target=\"_parent\"><img src=\"https://colab.research.google.com/assets/colab-badge.svg\" alt=\"Open In Colab\"/></a>"
      ]
    },
    {
      "cell_type": "code",
      "metadata": {
        "id": "H6N-TVt0pTUy"
      },
      "source": [
        "#Web scraping de  \n",
        "#  https://datosmacro.expansion.com/energia-y-medio-ambiente/emisiones-co2"
      ],
      "execution_count": null,
      "outputs": []
    },
    {
      "cell_type": "code",
      "metadata": {
        "id": "c7ws0ZY9pncY"
      },
      "source": [
        "#Importamos librerias necesarias\n",
        "#Para el tratamiento de datos\n",
        "import pandas as pd\n",
        "import numpy as np\n",
        "\n",
        "#Para solicitar paginas web(request) y alanalizarlas(BeautifulSoup)\n",
        "import requests                     # https://requests.readthedocs.io/es/latest/\n",
        "from bs4 import BeautifulSoup       # https://www.crummy.com/software/BeautifulSoup/bs4/doc/\n",
        "\n",
        "#Para visualizaciones\n",
        "import matplotlib.pyplot as plt\n",
        "import seaborn as sns\n"
      ],
      "execution_count": null,
      "outputs": []
    },
    {
      "cell_type": "code",
      "metadata": {
        "id": "QBxpV6JwsuSj"
      },
      "source": [
        "#Obtenemos la pagina html que queremos hacer web scraping\n",
        "page = requests.get('https://datosmacro.expansion.com/energia-y-medio-ambiente/emisiones-co2' )\n",
        "print(page.text)\n",
        "#print(page.status_code)\n",
        "#print(page.headers['content-type'])"
      ],
      "execution_count": null,
      "outputs": []
    },
    {
      "cell_type": "code",
      "metadata": {
        "id": "2khrjSwWs_vh",
        "outputId": "1c2eb8b8-f9b6-46a6-9f39-9f156efc4569",
        "colab": {
          "base_uri": "https://localhost:8080/",
          "height": 50
        }
      },
      "source": [
        "soup = BeautifulSoup(page.text, 'lxml')\n",
        "\n",
        "print(soup.title)\n",
        "\n",
        "print(soup.title.get_text() )\n"
      ],
      "execution_count": null,
      "outputs": [
        {
          "output_type": "stream",
          "text": [
            "<title>Emisiones de CO2  2018 | datosmacro.com</title>\n",
            "Emisiones de CO2  2018 | datosmacro.com\n"
          ],
          "name": "stdout"
        }
      ]
    },
    {
      "cell_type": "code",
      "metadata": {
        "id": "0upm8CdAyAmT"
      },
      "source": [
        "filas = soup.find('table', {'id':'tb1'}).find('tbody').find_all('tr')\n",
        "\n",
        "filas"
      ],
      "execution_count": null,
      "outputs": []
    },
    {
      "cell_type": "code",
      "metadata": {
        "id": "gSgmMv5u02EX",
        "outputId": "4579996f-7e44-47f0-aacf-5477cbb028c3",
        "colab": {
          "base_uri": "https://localhost:8080/",
          "height": 343
        }
      },
      "source": [
        "data = []\n",
        "\n",
        "for fila in filas:\n",
        "    celdas = fila.find_all('td')\n",
        "    dato={}\n",
        "    dato['pais'] = celdas[0].get_text().replace(' [+]','')\n",
        "    dato['CO2 Totales  Kts'] = celdas[1].get_text() \n",
        "    dato['CO2 Kg/1000$'] = celdas[2].get_text() \n",
        "    dato['CO2 t  per capita'] = celdas[3].get_text() \n",
        "    dato['Var.'] = celdas[5].get_text() \n",
        "      \n",
        "    data.append(dato)\n",
        "\n",
        "df = pd.DataFrame(data)\n",
        "df.head(10)"
      ],
      "execution_count": null,
      "outputs": [
        {
          "output_type": "execute_result",
          "data": {
            "text/html": [
              "<div>\n",
              "<style scoped>\n",
              "    .dataframe tbody tr th:only-of-type {\n",
              "        vertical-align: middle;\n",
              "    }\n",
              "\n",
              "    .dataframe tbody tr th {\n",
              "        vertical-align: top;\n",
              "    }\n",
              "\n",
              "    .dataframe thead th {\n",
              "        text-align: right;\n",
              "    }\n",
              "</style>\n",
              "<table border=\"1\" class=\"dataframe\">\n",
              "  <thead>\n",
              "    <tr style=\"text-align: right;\">\n",
              "      <th></th>\n",
              "      <th>pais</th>\n",
              "      <th>CO2 Totales  Kts</th>\n",
              "      <th>CO2 Kg/1000$</th>\n",
              "      <th>CO2 t  per capita</th>\n",
              "      <th>Var.</th>\n",
              "    </tr>\n",
              "  </thead>\n",
              "  <tbody>\n",
              "    <tr>\n",
              "      <th>0</th>\n",
              "      <td>España</td>\n",
              "      <td>276.047</td>\n",
              "      <td>0,17</td>\n",
              "      <td>5,95</td>\n",
              "      <td>-2,26%</td>\n",
              "    </tr>\n",
              "    <tr>\n",
              "      <th>1</th>\n",
              "      <td>Alemania</td>\n",
              "      <td>752.655</td>\n",
              "      <td>0,20</td>\n",
              "      <td>9,15</td>\n",
              "      <td>-4,69%</td>\n",
              "    </tr>\n",
              "    <tr>\n",
              "      <th>2</th>\n",
              "      <td>Reino Unido</td>\n",
              "      <td>371.970</td>\n",
              "      <td>0,14</td>\n",
              "      <td>5,59</td>\n",
              "      <td>-2,53%</td>\n",
              "    </tr>\n",
              "    <tr>\n",
              "      <th>3</th>\n",
              "      <td>Francia</td>\n",
              "      <td>323.279</td>\n",
              "      <td>0,12</td>\n",
              "      <td>4,96</td>\n",
              "      <td>-2,67%</td>\n",
              "    </tr>\n",
              "    <tr>\n",
              "      <th>4</th>\n",
              "      <td>Italia</td>\n",
              "      <td>344.814</td>\n",
              "      <td>0,16</td>\n",
              "      <td>5,82</td>\n",
              "      <td>-2,95%</td>\n",
              "    </tr>\n",
              "    <tr>\n",
              "      <th>5</th>\n",
              "      <td>Portugal</td>\n",
              "      <td>52.612</td>\n",
              "      <td>0,18</td>\n",
              "      <td>5,11</td>\n",
              "      <td>-6,57%</td>\n",
              "    </tr>\n",
              "    <tr>\n",
              "      <th>6</th>\n",
              "      <td>Estados Unidos</td>\n",
              "      <td>5.275.478</td>\n",
              "      <td>0,29</td>\n",
              "      <td>16,14</td>\n",
              "      <td>2,14%</td>\n",
              "    </tr>\n",
              "    <tr>\n",
              "      <th>7</th>\n",
              "      <td>Japón</td>\n",
              "      <td>1.198.546</td>\n",
              "      <td>0,24</td>\n",
              "      <td>9,42</td>\n",
              "      <td>-1,50%</td>\n",
              "    </tr>\n",
              "    <tr>\n",
              "      <th>8</th>\n",
              "      <td>China</td>\n",
              "      <td>11.255.878</td>\n",
              "      <td>0,50</td>\n",
              "      <td>7,95</td>\n",
              "      <td>1,13%</td>\n",
              "    </tr>\n",
              "    <tr>\n",
              "      <th>9</th>\n",
              "      <td>Emiratos Árabes Unidos</td>\n",
              "      <td>214.108</td>\n",
              "      <td>0,33</td>\n",
              "      <td>22,44</td>\n",
              "      <td>1,37%</td>\n",
              "    </tr>\n",
              "  </tbody>\n",
              "</table>\n",
              "</div>"
            ],
            "text/plain": [
              "                     pais CO2 Totales  Kts  ... CO2 t  per capita    Var.\n",
              "0                  España          276.047  ...              5,95  -2,26%\n",
              "1                Alemania          752.655  ...              9,15  -4,69%\n",
              "2             Reino Unido          371.970  ...              5,59  -2,53%\n",
              "3                 Francia          323.279  ...              4,96  -2,67%\n",
              "4                  Italia          344.814  ...              5,82  -2,95%\n",
              "5                Portugal           52.612  ...              5,11  -6,57%\n",
              "6          Estados Unidos        5.275.478  ...             16,14   2,14%\n",
              "7                   Japón        1.198.546  ...              9,42  -1,50%\n",
              "8                   China       11.255.878  ...              7,95   1,13%\n",
              "9  Emiratos Árabes Unidos          214.108  ...             22,44   1,37%\n",
              "\n",
              "[10 rows x 5 columns]"
            ]
          },
          "metadata": {
            "tags": []
          },
          "execution_count": 31
        }
      ]
    }
  ]
}